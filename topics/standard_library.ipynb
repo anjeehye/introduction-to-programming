{
 "cells": [
  {
   "cell_type": "markdown",
   "metadata": {
    "toc": true
   },
   "source": [
    "<h1>Contents<span class=\"tocSkip\"></span></h1>\n",
    "<div class=\"toc\"><ul class=\"toc-item\"><li><span><a href=\"#os\" data-toc-modified-id=\"os-1\">os</a></span></li></ul></div>"
   ]
  },
  {
   "cell_type": "markdown",
   "metadata": {},
   "source": [
    "# The standard library\n",
    "\n",
    "In the [previous lesson](modules.ipynb), we saw that Python programs can [import](extras/glossary.md#import) some of their components from other files. Such additional files that are not in themselves programs but instead provide *components* for programs are known as [modules](extras/glossary.md#module).\n",
    "\n",
    "We started out by writing our own modules, to see how the whole idea works. But we can also import modules that we get from elsewhere. For even moderately complex programs, we will almost always need to import and use some additional components that we did not write ourselves. If we start work on a new task and we find that it cannot easily be accomplished using the basic operations and data types, or if we don't even know how to begin, then we should ask ourselves: Is this a task that lots of other people will probably have needed to do before? If it is, then we might be able to save ourselves some time by searching first for a pre-made module that provides some of the building blocks that we need.\n",
    "\n",
    "We might find that we first need to download and install some of the modules that we decide we want to use. But in many cases this is not necessary. A standard Python installation comes with a large collection of pre-made modules for many common programming tasks. This collection of modules that is already included when we install Python is known as the 'standard library'. The term 'library' is used here to indicate that, like the knowledge stored in a library, the contents of these extra modules are not immediately available to us, but can be accessed by going to the library and 'reading in' one of the 'books'. The Python language is organized so as to provide only the very basics at its core: a few [built-in functions](extras/glossary.md#builtin), mathematical [operators](extras/glossary.md#operator), the most useful [data types](extras/glossary.md#type), and some [control statements](extras/glossary.md#control). The core of the language is kept small and simple, and programmers only bring in as much of the extras as they need for a given task.\n",
    "\n",
    "So what extra modules are contained in the standard library? You can find a full list of them at the official Python documentation pages [here](https://docs.python.org/3/library/), but this is a little overwhelming to read all at once. Instead of going through them exhaustively, we will look here at a few of the most commonly useful ones. We will set ourselves some example tasks, each of which will require one or more modules from the standard library.\n",
    "\n",
    "## os\n",
    "\n",
    "Here is our first task:\n",
    "\n",
    "* We are preparing to organize our tax returns for the last five years and would like to generate a folder structure in which to store them.\n",
    "* We need one folder for each of the last five years.\n",
    "* Inside each of those year folders, we would like a separate folder for each month.\n",
    "\n",
    "How do we even make new folders in Python? We don't know. But we head over to Google and search for 'Python make new folder' and see that the first few results all mention something called the 'os module'.\n",
    "\n",
    "`os` is a module from Python's standard library. The letters 'OS' stand for [Operating System](extras/glossary.md#OS), and the `os` module handles various tasks that involve interacting with the operating system of a computer, primarily with its system of files and folders.\n",
    "\n",
    "We can [import](extras/glossary.md#import) a module from the standard library in just the same way as importing a module that we wrote ourselves. The only difference is that we don't need to make sure that we have the module file ready in the same directory as our main program; modules from the standard library can be imported at any time regardless of which directory we are working in."
   ]
  },
  {
   "cell_type": "code",
   "execution_count": 2,
   "metadata": {},
   "outputs": [],
   "source": [
    "import os"
   ]
  },
  {
   "cell_type": "markdown",
   "metadata": {},
   "source": [
    "As we have seen before, if we encounter a new module, we can use the `dir()` function in the console to see its contents. I won't do this here simply because the `os` module contains *a lot* of things. But if you like you can go to the console in Spyder and type in `dir(os)` to see the full list of contents (make sure you have first typed in `import os` so that the `os` module is imported and ready to use).\n",
    "\n",
    "The functions from `os` that are relevant for our task are `os.mkdir()` and `os.makedirs()`. As their (somewhat abbreviated) names suggest, these functions are for making new directories. Let's remind ourselves of the [syntax](extras/glossary.md#syntax) for using a function from an imported module. We will use `os.mkdir()`, which creates a single new directory, to make an example new directory, just to test it out:"
   ]
  },
  {
   "cell_type": "code",
   "execution_count": 2,
   "metadata": {},
   "outputs": [],
   "source": [
    "os.mkdir('my_new_directory')"
   ]
  },
  {
   "cell_type": "markdown",
   "metadata": {},
   "source": [
    "If you enter this command in your Spyder console, you should then be able to go to your file explorer, find whatever directory you are working in in Spyder, and see that a new directory called 'my_new_directory' has been created there.\n",
    "\n",
    "`os` also provides a function for listing the contents of the current directory, which you can use instead to check the result if you are too lazy to go and open your file explorer:"
   ]
  },
  {
   "cell_type": "code",
   "execution_count": 3,
   "metadata": {},
   "outputs": [
    {
     "data": {
      "text/plain": [
       "['my_new_directory',\n",
       " 'modules.ipynb',\n",
       " 'functions.md',\n",
       " 'intro.md',\n",
       " 'images',\n",
       " 'types.md',\n",
       " 'sequences_mappings.md',\n",
       " 'standard_library.ipynb',\n",
       " 'types.ipynb',\n",
       " 'convert_ipynb.sh',\n",
       " '.ipynb_checkpoints',\n",
       " 'sequences_mappings.ipynb',\n",
       " 'conditions.ipynb',\n",
       " 'iteration.ipynb',\n",
       " 'modules.md',\n",
       " 'iteration.md',\n",
       " 'README.md',\n",
       " 'functions.ipynb',\n",
       " 'examples',\n",
       " 'extras',\n",
       " 'conditions.md']"
      ]
     },
     "execution_count": 3,
     "metadata": {},
     "output_type": "execute_result"
    }
   ],
   "source": [
    "os.listdir()"
   ]
  },
  {
   "cell_type": "markdown",
   "metadata": {},
   "source": [
    "(The contents of your current directory may of course differ from mine, but you should see that 'my_new_directory' is in there.)\n",
    "\n",
    "Since this first new directory was just an example to test out the workings of `os.mkdir()`, let's tidy up and delete the example directory. `os` provides a function for this too, `os.rmdir()` (in programming, 'rm' is often used as an abbreviation for 'remove'):"
   ]
  },
  {
   "cell_type": "code",
   "execution_count": 4,
   "metadata": {},
   "outputs": [],
   "source": [
    "os.rmdir('my_new_directory')"
   ]
  },
  {
   "cell_type": "markdown",
   "metadata": {},
   "source": [
    "And just to show off, let's also combine our new `os` skills with our existing knowledge to write a logical statement that checks whether removing the example directory has really worked:"
   ]
  },
  {
   "cell_type": "code",
   "execution_count": 5,
   "metadata": {},
   "outputs": [
    {
     "data": {
      "text/plain": [
       "False"
      ]
     },
     "execution_count": 5,
     "metadata": {},
     "output_type": "execute_result"
    }
   ],
   "source": [
    "'my_new_directory' in os.listdir()"
   ]
  },
  {
   "cell_type": "markdown",
   "metadata": {},
   "source": [
    "Note that many of the `os` functions that create or remove directories will [raise an exception](extras/glossary.md#exception) if we try to create a directory that already exists or we try to remove a directory that does not exist:"
   ]
  },
  {
   "cell_type": "code",
   "execution_count": 3,
   "metadata": {
    "tags": [
     "raises-exception"
    ]
   },
   "outputs": [
    {
     "ename": "FileNotFoundError",
     "evalue": "[Errno 2] No such file or directory: 'nonexistent_directory'",
     "output_type": "error",
     "traceback": [
      "\u001b[0;31m---------------------------------------------------------------------------\u001b[0m",
      "\u001b[0;31mFileNotFoundError\u001b[0m                         Traceback (most recent call last)",
      "\u001b[0;32m<ipython-input-3-17b14c181fc8>\u001b[0m in \u001b[0;36m<module>\u001b[0;34m\u001b[0m\n\u001b[0;32m----> 1\u001b[0;31m \u001b[0mos\u001b[0m\u001b[0;34m.\u001b[0m\u001b[0mrmdir\u001b[0m\u001b[0;34m(\u001b[0m\u001b[0;34m'nonexistent_directory'\u001b[0m\u001b[0;34m)\u001b[0m\u001b[0;34m\u001b[0m\u001b[0;34m\u001b[0m\u001b[0m\n\u001b[0m",
      "\u001b[0;31mFileNotFoundError\u001b[0m: [Errno 2] No such file or directory: 'nonexistent_directory'"
     ]
    }
   ],
   "source": [
    "os.rmdir('nonexistent_directory')"
   ]
  },
  {
   "cell_type": "markdown",
   "metadata": {},
   "source": [
    "It is a fairly common situation that we would like to create a directory only if it does not already exist, or remove a directory only if it does exist. We can use a `try` and `except` [control statement](extras/glossary.md#control) to deal with this:"
   ]
  },
  {
   "cell_type": "code",
   "execution_count": 3,
   "metadata": {},
   "outputs": [
    {
     "name": "stdout",
     "output_type": "stream",
     "text": [
      "Didn't remove the directory because it doesn't exist, but that's ok.\n"
     ]
    }
   ],
   "source": [
    "try:\n",
    "    os.rmdir('nonexistent_directory')\n",
    "except FileNotFoundError:\n",
    "    print(\"Didn't remove the directory because it doesn't exist, but that's ok.\")"
   ]
  },
  {
   "cell_type": "markdown",
   "metadata": {},
   "source": [
    "(If you need to remind yourself how `try` ... `except` works, look back at the section on [handling errors](conditions.ipynb#Handling-errors) in the lesson on conditions.)\n",
    "\n",
    "### Paths"
   ]
  }
 ],
 "metadata": {
  "celltoolbar": "Tags",
  "kernelspec": {
   "display_name": "Python 3",
   "language": "python",
   "name": "python3"
  },
  "language_info": {
   "codemirror_mode": {
    "name": "ipython",
    "version": 3
   },
   "file_extension": ".py",
   "mimetype": "text/x-python",
   "name": "python",
   "nbconvert_exporter": "python",
   "pygments_lexer": "ipython3",
   "version": "3.6.8"
  },
  "toc": {
   "base_numbering": 1,
   "nav_menu": {},
   "number_sections": false,
   "sideBar": true,
   "skip_h1_title": true,
   "title_cell": "Contents",
   "title_sidebar": "Contents",
   "toc_cell": true,
   "toc_position": {},
   "toc_section_display": true,
   "toc_window_display": false
  }
 },
 "nbformat": 4,
 "nbformat_minor": 2
}
