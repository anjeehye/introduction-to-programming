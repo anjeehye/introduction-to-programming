{
 "cells": [
  {
   "cell_type": "markdown",
   "metadata": {},
   "source": [
    "# Functions\n",
    "\n",
    "We have been working with [functions](extras/glossary.md#function) since the very first lesson. For example, we have often used the `input()` function to allow users of our program to type something in, and the `print()` function to display messages for the user."
   ]
  },
  {
   "cell_type": "code",
   "execution_count": 7,
   "metadata": {},
   "outputs": [
    {
     "name": "stdout",
     "output_type": "stream",
     "text": [
      "What is your name? Mildred\n",
      "Hello Mildred\n"
     ]
    }
   ],
   "source": [
    "name = input('What is your name? ')\n",
    "\n",
    "print('Hello', name)"
   ]
  },
  {
   "cell_type": "markdown",
   "metadata": {},
   "source": [
    "In addition, we have learned about a few other miscellaneous functions, such as `len()` for counting the number of items in a [sequence](extras/glossary.md#sequence) (or the number of characters in a [string](extras/glossary.md#string))."
   ]
  },
  {
   "cell_type": "code",
   "execution_count": 5,
   "metadata": {},
   "outputs": [
    {
     "data": {
      "text/plain": [
       "7"
      ]
     },
     "execution_count": 5,
     "metadata": {},
     "output_type": "execute_result"
    }
   ],
   "source": [
    "len(name)"
   ]
  },
  {
   "cell_type": "markdown",
   "metadata": {},
   "source": [
    "And we have learned about a special kind of function, called [methods](extras/glossary.md#method), that are 'attached' to just one [data type](extras/glossary.md#type). For example the [string](extras/glossary.md#string) method `upper()`:"
   ]
  },
  {
   "cell_type": "code",
   "execution_count": 8,
   "metadata": {},
   "outputs": [
    {
     "data": {
      "text/plain": [
       "'MILDRED'"
      ]
     },
     "execution_count": 8,
     "metadata": {},
     "output_type": "execute_result"
    }
   ],
   "source": [
    "name.upper()"
   ]
  },
  {
   "cell_type": "markdown",
   "metadata": {},
   "source": [
    "The [syntax](extras/glossary.md#syntax) for using methods is slightly different from that for functions. We will set aside methods for now and focus on functions in general.\n",
    "\n",
    "## Calling functions\n",
    "\n",
    "The standard syntax for using a function is:\n",
    "\n",
    "* write the name of the function\n",
    "* open parentheses `(`\n",
    "* (optionally) write any inputs to the function\n",
    "  * multiple inputs must be separated by commas\n",
    "* close parentheses `)`\n",
    "\n",
    "The function will then output some result (although a few functions have no output).\n",
    "\n",
    "There are a few important pieces of computing vocabulary associated with functions:\n",
    "\n",
    "* **Call**. Running a function is known as '[calling](extras/glossary.md#call)' the function. When we run a function, this is sometimes termed a 'function call'. It is as if the function is playing outside in the garden, and then we call it in because we want it to do something for us.\n",
    "* **Argument**. The inputs to a function, which go inside the parentheses, are known as the function's '[arguments](extras/glossary.md#argument)'. This is very different from the everyday use of the word 'argument', but is probably distantly related to the sense of 'argument' as meaning 'valid or confirmatory information'. According to *[The Origins of Mathematical Words](https://muse.jhu.edu/book/26769)*, astronomers used to compile tables of numbers about the positions of celestial bodies, and then input these numbers into further calculations. These validated input numbers were known as 'arguments' in the sense of 'supporting information'.\n",
    "* **Return value**. The output of the function is known as its '[return value](extras/glossary.md#return)'. When the function has finished doing its work and reports back to us with the result, we say that the function has 'returned' that result.\n",
    "\n",
    "We can see some of these terms in action in a few [error messages](extras/glossary.md#error) that we encounter if we use a function incorrectly. For example if we try to [call](extras/glossary.md#call) something that is not a function:"
   ]
  },
  {
   "cell_type": "code",
   "execution_count": 13,
   "metadata": {
    "tags": [
     "raises-exception"
    ]
   },
   "outputs": [
    {
     "ename": "TypeError",
     "evalue": "'int' object is not callable",
     "output_type": "error",
     "traceback": [
      "\u001b[0;31m---------------------------------------------------------------------------\u001b[0m",
      "\u001b[0;31mTypeError\u001b[0m                                 Traceback (most recent call last)",
      "\u001b[0;32m<ipython-input-13-40e574c91384>\u001b[0m in \u001b[0;36m<module>\u001b[0;34m\u001b[0m\n\u001b[1;32m      1\u001b[0m \u001b[0msome_number\u001b[0m \u001b[0;34m=\u001b[0m \u001b[0;36m42\u001b[0m\u001b[0;34m\u001b[0m\u001b[0;34m\u001b[0m\u001b[0m\n\u001b[1;32m      2\u001b[0m \u001b[0;34m\u001b[0m\u001b[0m\n\u001b[0;32m----> 3\u001b[0;31m \u001b[0msome_number\u001b[0m\u001b[0;34m(\u001b[0m\u001b[0;34m)\u001b[0m\u001b[0;34m\u001b[0m\u001b[0;34m\u001b[0m\u001b[0m\n\u001b[0m",
      "\u001b[0;31mTypeError\u001b[0m: 'int' object is not callable"
     ]
    }
   ],
   "source": [
    "some_number = 42\n",
    "\n",
    "some_number()"
   ]
  },
  {
   "cell_type": "markdown",
   "metadata": {},
   "source": [
    "Or if we supply the wrong number of [arguments](extras/glossary.md#argument):"
   ]
  },
  {
   "cell_type": "code",
   "execution_count": 10,
   "metadata": {
    "tags": [
     "raises-exception"
    ]
   },
   "outputs": [
    {
     "ename": "TypeError",
     "evalue": "len() takes exactly one argument (0 given)",
     "output_type": "error",
     "traceback": [
      "\u001b[0;31m---------------------------------------------------------------------------\u001b[0m",
      "\u001b[0;31mTypeError\u001b[0m                                 Traceback (most recent call last)",
      "\u001b[0;32m<ipython-input-10-adf3103c7c3e>\u001b[0m in \u001b[0;36m<module>\u001b[0;34m\u001b[0m\n\u001b[0;32m----> 1\u001b[0;31m \u001b[0mlen\u001b[0m\u001b[0;34m(\u001b[0m\u001b[0;34m)\u001b[0m\u001b[0;34m\u001b[0m\u001b[0;34m\u001b[0m\u001b[0m\n\u001b[0m",
      "\u001b[0;31mTypeError\u001b[0m: len() takes exactly one argument (0 given)"
     ]
    }
   ],
   "source": [
    "len()"
   ]
  },
  {
   "cell_type": "code",
   "execution_count": 11,
   "metadata": {
    "tags": [
     "raises-exception"
    ]
   },
   "outputs": [
    {
     "ename": "TypeError",
     "evalue": "len() takes exactly one argument (2 given)",
     "output_type": "error",
     "traceback": [
      "\u001b[0;31m---------------------------------------------------------------------------\u001b[0m",
      "\u001b[0;31mTypeError\u001b[0m                                 Traceback (most recent call last)",
      "\u001b[0;32m<ipython-input-11-e6b31188cf9e>\u001b[0m in \u001b[0;36m<module>\u001b[0;34m\u001b[0m\n\u001b[0;32m----> 1\u001b[0;31m \u001b[0mlen\u001b[0m\u001b[0;34m(\u001b[0m\u001b[0;34m'Mildred'\u001b[0m\u001b[0;34m,\u001b[0m \u001b[0;34m'Bonk'\u001b[0m\u001b[0;34m)\u001b[0m\u001b[0;34m\u001b[0m\u001b[0;34m\u001b[0m\u001b[0m\n\u001b[0m",
      "\u001b[0;31mTypeError\u001b[0m: len() takes exactly one argument (2 given)"
     ]
    }
   ],
   "source": [
    "len('Mildred', 'Bonk')"
   ]
  },
  {
   "cell_type": "markdown",
   "metadata": {},
   "source": [
    "## Arguments\n",
    "\n",
    "Some functions are flexible in the number of arguments they take. For example, `print()` can take an indefinite number of arguments, and just prints them all out one after the other:"
   ]
  },
  {
   "cell_type": "code",
   "execution_count": 14,
   "metadata": {},
   "outputs": [
    {
     "name": "stdout",
     "output_type": "stream",
     "text": [
      "Hello world !\n"
     ]
    }
   ],
   "source": [
    "print('Hello', 'world', '!')"
   ]
  },
  {
   "cell_type": "markdown",
   "metadata": {},
   "source": [
    "`print()` can even take no arguments at all. In this case, it prints a [newline](extras/glossary.md#newline) (a blank line):"
   ]
  },
  {
   "cell_type": "code",
   "execution_count": 15,
   "metadata": {},
   "outputs": [
    {
     "name": "stdout",
     "output_type": "stream",
     "text": [
      "\n"
     ]
    }
   ],
   "source": [
    "print()"
   ]
  },
  {
   "cell_type": "markdown",
   "metadata": {},
   "source": [
    "Notice that even if there are no input arguments, the parentheses are still required. The presence of the parentheses is what lets Python know that we actually want to [call](extras/glossary.md#call) the function. If we omit them, the function is not called. Instead, Python simply confirms: \"yes, that is a function\"."
   ]
  },
  {
   "cell_type": "code",
   "execution_count": 16,
   "metadata": {},
   "outputs": [
    {
     "data": {
      "text/plain": [
       "<function print>"
      ]
     },
     "execution_count": 16,
     "metadata": {},
     "output_type": "execute_result"
    }
   ],
   "source": [
    "print"
   ]
  },
  {
   "cell_type": "markdown",
   "metadata": {},
   "source": [
    "### Keyword arguments\n",
    "\n",
    "Some functions are a little more complex. As well as taking one or more arguments in the standard way that we have seen so far, some functions can take some additional special arguments that modify the behavior of the function in some way. These arguments have specific names, and we must assign values into those specific names (with `=`) in order to make them work.\n",
    "\n",
    "If this sounds a little abstract, it will become much clearer with an example. The `print()` function can also take some additional named arguments called `sep` and `end`. `sep` (an abbreviation of 'separator') specifies characters to print in between all the other arguments, and `end` specifies some characters to print at the end:"
   ]
  },
  {
   "cell_type": "code",
   "execution_count": 18,
   "metadata": {},
   "outputs": [
    {
     "name": "stdout",
     "output_type": "stream",
     "text": [
      "Hello...my name is...Mildred!"
     ]
    }
   ],
   "source": [
    "print('Hello', 'my name is', 'Mildred', sep='...', end='!')"
   ]
  },
  {
   "cell_type": "markdown",
   "metadata": {},
   "source": [
    "These special named arguments are known as 'keyword arguments' (and sometimes you may see them referred to by the abbreviation `kwargs`). Keyword arguments have fixed names. Unlike when we [assign](extras/glossary.md#assignment) a variable, we cannot just give them any name we like. Otherwise, the function would have no way of knowing which particular part of its behavior we intend each keyword argument to modify.\n",
    "\n",
    "If we try to assign the keyword arguments to just any old name, the result is an error. And now that we know the relevant vocabulary, the text of the error message is pretty clear about what we did wrong:"
   ]
  },
  {
   "cell_type": "code",
   "execution_count": 19,
   "metadata": {
    "tags": [
     "raises-exception"
    ]
   },
   "outputs": [
    {
     "ename": "TypeError",
     "evalue": "'x' is an invalid keyword argument for this function",
     "output_type": "error",
     "traceback": [
      "\u001b[0;31m---------------------------------------------------------------------------\u001b[0m",
      "\u001b[0;31mTypeError\u001b[0m                                 Traceback (most recent call last)",
      "\u001b[0;32m<ipython-input-19-abafff96c1e1>\u001b[0m in \u001b[0;36m<module>\u001b[0;34m\u001b[0m\n\u001b[0;32m----> 1\u001b[0;31m \u001b[0mprint\u001b[0m\u001b[0;34m(\u001b[0m\u001b[0;34m'Hello'\u001b[0m\u001b[0;34m,\u001b[0m \u001b[0;34m'my name is'\u001b[0m\u001b[0;34m,\u001b[0m \u001b[0;34m'Mildred'\u001b[0m\u001b[0;34m,\u001b[0m \u001b[0mx\u001b[0m\u001b[0;34m=\u001b[0m\u001b[0;34m'...'\u001b[0m\u001b[0;34m,\u001b[0m \u001b[0my\u001b[0m\u001b[0;34m=\u001b[0m\u001b[0;34m'!'\u001b[0m\u001b[0;34m)\u001b[0m\u001b[0;34m\u001b[0m\u001b[0;34m\u001b[0m\u001b[0m\n\u001b[0m",
      "\u001b[0;31mTypeError\u001b[0m: 'x' is an invalid keyword argument for this function"
     ]
    }
   ],
   "source": [
    "print('Hello', 'my name is', 'Mildred', x='...', y='!')"
   ]
  },
  {
   "cell_type": "markdown",
   "metadata": {},
   "source": [
    "But up until now we have been using `print()` without specifying any values for the keyword arguments `sep` and `end`. So how did `print()` know what to do? Keyword arguments have 'default values', which are used if no keyword arguments are given. If you look at the standard behavior of `print()` you may be able to guess what the default values for `sep` and `end` are:"
   ]
  },
  {
   "cell_type": "code",
   "execution_count": 20,
   "metadata": {},
   "outputs": [
    {
     "name": "stdout",
     "output_type": "stream",
     "text": [
      "Hello my name is Mildred\n"
     ]
    }
   ],
   "source": [
    "print('Hello', 'my name is', 'Mildred')"
   ]
  },
  {
   "cell_type": "markdown",
   "metadata": {},
   "source": [
    "That's right, the default for `sep` is a space (i.e. `sep=' '`). It is a little harder to see what the default for `end` is, because it is somewhat invisible, but it is a [newline character](extras/glossary.md#newline), starting a new line. If we ask `end` to be nothing (i.e. an empty string `''`), then anything that is printed next will continue printing on the same line, instead of on a new one:"
   ]
  },
  {
   "cell_type": "code",
   "execution_count": 21,
   "metadata": {},
   "outputs": [
    {
     "name": "stdout",
     "output_type": "stream",
     "text": [
      "Hello my name is Mildredand I am very excited to be using your computer program.\n"
     ]
    }
   ],
   "source": [
    "print('Hello', 'my name is', 'Mildred', end='')\n",
    "print('and I am very excited to be using your computer program.')"
   ]
  },
  {
   "cell_type": "markdown",
   "metadata": {},
   "source": [
    "When you look at the official Python documentation for the `print()` function [here](https://docs.python.org/3/library/functions.html#print), you will see the possible input arguments written out in the header. When you first encounter a function that you would like to use, it is a good idea to seek out the documentation and look for this header, to see what the input arguments are, and whether any of them set default behavior that you might want to change.\n",
    "\n",
    "## Return values\n",
    "\n",
    "The output of a function is called its [return value](extras/glossary.md#return). Usually, when we use a function, we [assign](extras/glossary.md#assignment) the return value into a variable by placing `=` in front of the [function call](extras/glossary.md#call). For example, the return value of the `input()` function is a [string](extras/glossary.md#string) containing whatever characters the user typed in, and the return value of the `len()` function is an integer containing the number of items in a sequence or number of characters in a string. We can assign return values into variables to make use of them in the rest of our program:"
   ]
  },
  {
   "cell_type": "code",
   "execution_count": 22,
   "metadata": {},
   "outputs": [
    {
     "name": "stdout",
     "output_type": "stream",
     "text": [
      "Name: Mildred\n",
      "Your name has 7 letters.\n"
     ]
    }
   ],
   "source": [
    "name = input('Name: ')\n",
    "\n",
    "n_letters = len(name)\n",
    "\n",
    "print('Your name has', n_letters, 'letters.')"
   ]
  },
  {
   "cell_type": "markdown",
   "metadata": {},
   "source": [
    "### Side effects\n",
    "\n",
    "Does the `print()` function have a [return value](extras/glossary.md#return)? At first, it may seem as though it does. Doesn't it return the printed text?"
   ]
  },
  {
   "cell_type": "code",
   "execution_count": null,
   "metadata": {},
   "outputs": [],
   "source": [
    "text = print('Hello.')\n",
    "\n",
    "type(text)"
   ]
  },
  {
   "cell_type": "markdown",
   "metadata": {},
   "source": [
    "As we can see here, `print()` has no return value (it returns [`None`](extras/glossary.md#none)). It is important to distinguish between what a function *does* and what it *returns*. Sometimes, a function simply 'does things' but does not produce a return value that we can [assign](extras/glossary.md#assignment) into a variable. The *effect* of the `print()` function is to display text, but the text is not its return value. Any effects of a function that are not reflected in its return value are termed 'side effects' of the function. Displaying text is a 'side effect' of the `print()` function, though that may sound like a strange way of talking about it.\n",
    "\n",
    "We have encountered this phenomenon before in a slightly different guise when we learned about list methods. Remember that list methods just go ahead and change the list, and they don't return the changed list, they return `None`. Changing the contents of the list is a 'side effect' of list methods.\n",
    "\n",
    "Most functions, however, have no side effects; everything they do is reflected in their return value. For example, `len()` returns the length of something, and this is all that it does.\n",
    "\n",
    "## Defining functions\n",
    "\n",
    "All the functions that we have met so far are '[builtins](extras/glossary.md#builtin)'; functions that are already 'built in' to Python, and are ready for us to use whenever we write a Python program.\n",
    "\n",
    "We are not limited to using the built-in functions. We can also define our own functions. We can then use these functions, either in the same program in which they are defined, or in another program, or we can even publish them online for other people to download and use in their programs.\n",
    "\n",
    "This is what we will learn about now.\n",
    "\n",
    "### Objective\n",
    "\n",
    "Let's again set ourselves a task to structure our learning. Imagine that we have a program that gathers user names. In this simple example program, we will omit using `input()` to get the user names, because it gets tedious to keep testing it by typing input at the console. Let's just define some names manually so we have a few to work with:"
   ]
  },
  {
   "cell_type": "code",
   "execution_count": 23,
   "metadata": {},
   "outputs": [],
   "source": [
    "user_name = 'Mildred Bonk'\n",
    "aunts_name = 'Jennifer Boolean'\n",
    "uncles_name = 'Julian Boolean'"
   ]
  },
  {
   "cell_type": "markdown",
   "metadata": {},
   "source": [
    "Now imagine that we want to create for each user an abbreviated ID consisting of their initials (i.e. the first letters of their first and surnames).\n",
    "\n",
    "We can do this using the string [method](extras/glossary.md#method) `split()` and some [indexing](extras/glossary.md#index), both of which we have learned about before:"
   ]
  },
  {
   "cell_type": "code",
   "execution_count": 24,
   "metadata": {},
   "outputs": [
    {
     "name": "stdout",
     "output_type": "stream",
     "text": [
      "MB\n"
     ]
    }
   ],
   "source": [
    "names = user_name.split()\n",
    "firstname = names[0]\n",
    "surname = names[1]\n",
    "user_id = firstname[0] + surname[0]\n",
    "\n",
    "print(user_id)"
   ]
  },
  {
   "cell_type": "markdown",
   "metadata": {},
   "source": [
    "Now that we have confirmed that it works, let's do it for the other two users as well:"
   ]
  },
  {
   "cell_type": "code",
   "execution_count": 26,
   "metadata": {},
   "outputs": [
    {
     "name": "stdout",
     "output_type": "stream",
     "text": [
      "JB\n",
      "JB\n"
     ]
    }
   ],
   "source": [
    "names = aunts_name.split()\n",
    "firstname = names[0]\n",
    "surname = names[1]\n",
    "aunts_id = firstname[0] + surname[0]\n",
    "\n",
    "names = uncles_name.split()\n",
    "firstname = names[0]\n",
    "surname = names[1]\n",
    "uncles_id = firstname[0] + surname[0]\n",
    "\n",
    "print(aunts_id)\n",
    "print(uncles_id)"
   ]
  },
  {
   "cell_type": "markdown",
   "metadata": {},
   "source": [
    "We notice that the next two users have the same ID. So now we decide that a better way to allocate IDs would be to use the first *two* letters of each user's first and surname. We have not picked a great way of approaching this task. Because we have copied and pasted almost the same lines three times to accomplish the same task, we now have to change things in several places whenever we decide that we want to change something about the way that that task is accomplished. We are fallible human beings and we are likely to miss one of the places in which the change is necessary, thus introducing mistakes into our program. [DRY](https://en.wikipedia.org/wiki/Don't_repeat_yourself).\n",
    "\n",
    "It would be nice if there were just a function that could take a username as its [argument](extras/glossary.md#argument) and [return](extras/glossary.md#) the user's initials. Then we could use it in our program. Even better would be if we could modify this function's behavior, and for the modified behavior to take effect wherever the function is used. This would allow us to make changes in just one place that take effect for the whole program.\n",
    "\n",
    "Maybe there is a built-in function that suits our needs?"
   ]
  },
  {
   "cell_type": "code",
   "execution_count": 27,
   "metadata": {
    "tags": [
     "raises-exception"
    ]
   },
   "outputs": [
    {
     "ename": "NameError",
     "evalue": "name 'get_initials' is not defined",
     "output_type": "error",
     "traceback": [
      "\u001b[0;31m---------------------------------------------------------------------------\u001b[0m",
      "\u001b[0;31mNameError\u001b[0m                                 Traceback (most recent call last)",
      "\u001b[0;32m<ipython-input-27-05f0e1156bc4>\u001b[0m in \u001b[0;36m<module>\u001b[0;34m\u001b[0m\n\u001b[0;32m----> 1\u001b[0;31m \u001b[0muser_id\u001b[0m \u001b[0;34m=\u001b[0m \u001b[0mget_initials\u001b[0m\u001b[0;34m(\u001b[0m\u001b[0muser_name\u001b[0m\u001b[0;34m)\u001b[0m\u001b[0;34m\u001b[0m\u001b[0;34m\u001b[0m\u001b[0m\n\u001b[0m",
      "\u001b[0;31mNameError\u001b[0m: name 'get_initials' is not defined"
     ]
    }
   ],
   "source": [
    "user_id = get_initials(user_name)"
   ]
  },
  {
   "cell_type": "markdown",
   "metadata": {},
   "source": [
    "No luck. We need to define this function ourselves.\n",
    "\n",
    "Here is what we would like our function `get_initials()` to do:\n",
    "\n",
    "* take a [string](extras/glossary.md#string) [argument](extras/glossary.md#argument) containing two names\n",
    "* return a new string containing the initials of those names (i.e. the first letter of each)\n",
    "* take two additional keyword arguments:\n",
    "  * `n`: an [integer](extras/glossary.md#integer) specifying the number of initial letters to use from each name\n",
    "    * this should default to `1` to produce the standard single initials\n",
    "  * `uppercase`: a [boolean](extras/glossary.md#boolean) specifying whether to return the initials in UPPERCASE\n",
    "    * this should default to `False` to produce lowercase initials\n",
    "* in addition, the function should produce an informative error message if the input argument string does not contain exactly two names (e.g. `'Mildred'` or `'Mildred T Bonk'`)\n",
    "\n",
    "## Function definitions\n",
    "\n",
    "When we decide to define a new function of our own, we should think about four ingredients:\n",
    "\n",
    "* the name of the function\n",
    "* its input arguments\n",
    "* what steps it carries out (the 'body' of the function)\n",
    "* the return value\n",
    "\n",
    "Below is the [syntax](extras/glossary.md#syntax) for defining a new function. A function definition is a kind of [control statement](extras/glossary.md#control), like a [condition](extras/glossary.md#condition) or a [loop](extras/glossary.md#loop), so some of the basic syntactical features of control statements, such as a colon `:` and [indentation](extras/glossary.md#indentation) appear here as well.\n",
    "\n",
    "* write `def`\n",
    "* write the name of the function (pick any name, just like for creating a variable)\n",
    "* open parentheses `(`\n",
    "* write the names of any arguments the function should have\n",
    "  * these should be separated by commas\n",
    "* write the steps that the function carries out\n",
    "  * these should be indented\n",
    "  * in these steps, use the names of the input arguments\n",
    "* write `return`\n",
    "* write what the function should return\n",
    "\n",
    "Let's see this syntax in action for a simple first attempt at our target function:"
   ]
  },
  {
   "cell_type": "code",
   "execution_count": 28,
   "metadata": {},
   "outputs": [],
   "source": [
    "def get_initials(name):\n",
    "    names = name.split()\n",
    "    firstname = names[0]\n",
    "    surname = names[1]\n",
    "    return firstname[0] + surname[0]"
   ]
  },
  {
   "cell_type": "markdown",
   "metadata": {},
   "source": [
    "Note that `def` (an abbreviation of 'define') and `return` are keywords; their roles are fixed. But `get_initials` is our chosen name for the function. This could be different. Likewise `name` is the name we have given to the input argument. This too could be different if we wish. But just as in a [loop](extras/glossary.md#loop) or a [comprehension](extras/glossary.md#comprehension), we must be consistent in using this same name in the body of the function wherever we mean 'whatever input is given to the function'. So if we were to use something arbitrary like `x` for the name of the input argument, we would have to also use `x` on line 2 above and say `x.split()` instead of `name.split()`.\n",
    "\n",
    "Let's now [call](extras/glossary.md#call) our function, with an example name as the input argument:"
   ]
  },
  {
   "cell_type": "code",
   "execution_count": 29,
   "metadata": {},
   "outputs": [
    {
     "data": {
      "text/plain": [
       "'MB'"
      ]
     },
     "execution_count": 29,
     "metadata": {},
     "output_type": "execute_result"
    }
   ],
   "source": [
    "get_initials('Mildred Bonk')"
   ]
  },
  {
   "cell_type": "markdown",
   "metadata": {},
   "source": [
    "It works! It bloody works! If you do not experience a brief twinge of transcendental joy when you have written a working function then there really is no hope for you.\n",
    "\n",
    "Now let's set about adding the additional features that we wanted our function to have"
   ]
  },
  {
   "cell_type": "code",
   "execution_count": null,
   "metadata": {},
   "outputs": [],
   "source": []
  }
 ],
 "metadata": {
  "celltoolbar": "Tags",
  "kernelspec": {
   "display_name": "Python 3",
   "language": "python",
   "name": "python3"
  },
  "language_info": {
   "codemirror_mode": {
    "name": "ipython",
    "version": 3
   },
   "file_extension": ".py",
   "mimetype": "text/x-python",
   "name": "python",
   "nbconvert_exporter": "python",
   "pygments_lexer": "ipython3",
   "version": "3.6.8"
  }
 },
 "nbformat": 4,
 "nbformat_minor": 2
}
