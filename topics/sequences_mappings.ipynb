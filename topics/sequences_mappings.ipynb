{
 "cells": [
  {
   "cell_type": "markdown",
   "metadata": {},
   "source": [
    "# Sequences and mappings\n",
    "\n",
    "In the [previous lesson](types.ipynb), we learned about some of the different data [types](extras/glossary.md#type) that Python recognizes, and we saw that Python treats each of them differently. In this lesson we will continue learning about types, but we will focus on a few particuular types that are especially useful for many programming tasks, and whose behavior it is worth considering in more detail.\n",
    "\n",
    "## Sequences\n",
    "\n",
    "We have already met both [tuples](extras/glossary.md#tuple) and [lists](extras/glossary.md#list)."
   ]
  },
  {
   "cell_type": "code",
   "execution_count": 1,
   "metadata": {},
   "outputs": [],
   "source": [
    "shopping_list = ['eggs', 'bacon', 'black pudding', 'sausages', 'bread', 'Mazola', 'gravy mix']\n",
    "shopping_tuple = ('eggs', 'bacon', 'black pudding', 'sausages', 'bread', 'Mazola', 'gravy mix')"
   ]
  },
  {
   "cell_type": "markdown",
   "metadata": {},
   "source": [
    "Tuples and lists are both [sequences](extras/glossary.md#sequence). That is, they can contain more than one value, and the values are arranged in order. It is the order of the values that allows us to pick them out individually, using positions in the tuple or list as [indices](extras/glossary.md#index). (Don't forget Python's zero-based indexing system.)"
   ]
  },
  {
   "cell_type": "code",
   "execution_count": 2,
   "metadata": {},
   "outputs": [
    {
     "data": {
      "text/plain": [
       "'eggs'"
      ]
     },
     "execution_count": 2,
     "metadata": {},
     "output_type": "execute_result"
    }
   ],
   "source": [
    "shopping_list[0]"
   ]
  },
  {
   "cell_type": "markdown",
   "metadata": {},
   "source": [
    "### Indexing\n",
    "\n",
    "Let's begin by looking at a few more ways of using indices to get items from a sequence. We will take a list as our example, but bear in mind that the examples work for tuples as well (you can create yourself a tuple in the Spyder console and check if you like).\n",
    "\n",
    "As well as literal numbers, we can use [variables](extras/glossary.md#variable) as indices. In this case, the value of the variable is used as the index."
   ]
  },
  {
   "cell_type": "code",
   "execution_count": 3,
   "metadata": {},
   "outputs": [
    {
     "data": {
      "text/plain": [
       "'bacon'"
      ]
     },
     "execution_count": 3,
     "metadata": {},
     "output_type": "execute_result"
    }
   ],
   "source": [
    "item_num = 1\n",
    "\n",
    "shopping_list[item_num]"
   ]
  },
  {
   "cell_type": "markdown",
   "metadata": {},
   "source": [
    "Indices must be [integers](extras/glossary.md#integer). This makes sense; it is unclear what contents would be stored in 'entry two-and-a-half'."
   ]
  },
  {
   "cell_type": "code",
   "execution_count": 4,
   "metadata": {
    "tags": [
     "raises-exception"
    ]
   },
   "outputs": [
    {
     "ename": "TypeError",
     "evalue": "list indices must be integers or slices, not float",
     "output_type": "error",
     "traceback": [
      "\u001b[0;31m---------------------------------------------------------------------------\u001b[0m",
      "\u001b[0;31mTypeError\u001b[0m                                 Traceback (most recent call last)",
      "\u001b[0;32m<ipython-input-4-a9d7bd6ccd83>\u001b[0m in \u001b[0;36m<module>\u001b[0;34m()\u001b[0m\n\u001b[1;32m      1\u001b[0m \u001b[0mitem_num\u001b[0m \u001b[0;34m=\u001b[0m \u001b[0;36m2.5\u001b[0m\u001b[0;34m\u001b[0m\u001b[0;34m\u001b[0m\u001b[0m\n\u001b[0;32m----> 2\u001b[0;31m \u001b[0mshopping_list\u001b[0m\u001b[0;34m[\u001b[0m\u001b[0mitem_num\u001b[0m\u001b[0;34m]\u001b[0m\u001b[0;34m\u001b[0m\u001b[0;34m\u001b[0m\u001b[0m\n\u001b[0m",
      "\u001b[0;31mTypeError\u001b[0m: list indices must be integers or slices, not float"
     ]
    }
   ],
   "source": [
    "item_num = 2.5\n",
    "\n",
    "shopping_list[item_num]"
   ]
  },
  {
   "cell_type": "markdown",
   "metadata": {},
   "source": [
    "Note the content of the error message above. Python does not accept [float](extras/glossary.md#float) values as indices. This is the case even if the float represents a whole number."
   ]
  },
  {
   "cell_type": "code",
   "execution_count": 5,
   "metadata": {
    "tags": [
     "raises-exception"
    ]
   },
   "outputs": [
    {
     "ename": "TypeError",
     "evalue": "list indices must be integers or slices, not float",
     "output_type": "error",
     "traceback": [
      "\u001b[0;31m---------------------------------------------------------------------------\u001b[0m",
      "\u001b[0;31mTypeError\u001b[0m                                 Traceback (most recent call last)",
      "\u001b[0;32m<ipython-input-5-1178f456234f>\u001b[0m in \u001b[0;36m<module>\u001b[0;34m()\u001b[0m\n\u001b[1;32m      1\u001b[0m \u001b[0mitem_num\u001b[0m \u001b[0;34m=\u001b[0m \u001b[0;36m2.0\u001b[0m\u001b[0;34m\u001b[0m\u001b[0;34m\u001b[0m\u001b[0m\n\u001b[0;32m----> 2\u001b[0;31m \u001b[0mshopping_list\u001b[0m\u001b[0;34m[\u001b[0m\u001b[0mitem_num\u001b[0m\u001b[0;34m]\u001b[0m\u001b[0;34m\u001b[0m\u001b[0;34m\u001b[0m\u001b[0m\n\u001b[0m",
      "\u001b[0;31mTypeError\u001b[0m: list indices must be integers or slices, not float"
     ]
    }
   ],
   "source": [
    "item_num = 2.0\n",
    "\n",
    "shopping_list[item_num]"
   ]
  },
  {
   "cell_type": "markdown",
   "metadata": {},
   "source": [
    "We saw in the last lesson that for basic arithmetic it often doesn't matter whether we represent numbers as integers or as floats; Python will convert them as necessary. But indexing is a situation in which we definitely need integers.\n",
    "\n",
    "So if for some reason we end up with a float variable, but we want to use it as an index, we must first convert it to an integer."
   ]
  },
  {
   "cell_type": "code",
   "execution_count": 6,
   "metadata": {},
   "outputs": [
    {
     "data": {
      "text/plain": [
       "'black pudding'"
      ]
     },
     "execution_count": 6,
     "metadata": {},
     "output_type": "execute_result"
    }
   ],
   "source": [
    "item_num = 2.0\n",
    "item_num = int(item_num)\n",
    "\n",
    "shopping_list[item_num]"
   ]
  },
  {
   "cell_type": "markdown",
   "metadata": {},
   "source": [
    "When might we end up with a float value while working with indices? One semi-common case in which this can occur is if we want to get entries that are part way through the sequence, for example half way. In order to find the halfway point, we can divide the length of the sequence by two. But this will result in a non-whole number if the sequence has an odd number of items (and in fact, as we have seen, the result of division is always a float even if the result is a whole number)."
   ]
  },
  {
   "cell_type": "code",
   "execution_count": 7,
   "metadata": {},
   "outputs": [
    {
     "name": "stdout",
     "output_type": "stream",
     "text": [
      "3.5\n"
     ]
    },
    {
     "data": {
      "text/plain": [
       "float"
      ]
     },
     "execution_count": 7,
     "metadata": {},
     "output_type": "execute_result"
    }
   ],
   "source": [
    "n_items = len(shopping_list)\n",
    "halfway = n_items / 2\n",
    "\n",
    "print(halfway)\n",
    "\n",
    "type(halfway)"
   ]
  },
  {
   "cell_type": "markdown",
   "metadata": {},
   "source": [
    "So we must convert the result back into an integer in order to use it as an index. This also 'rounds down' the number to its whole part."
   ]
  },
  {
   "cell_type": "code",
   "execution_count": 8,
   "metadata": {},
   "outputs": [
    {
     "name": "stdout",
     "output_type": "stream",
     "text": [
      "3\n"
     ]
    },
    {
     "data": {
      "text/plain": [
       "'sausages'"
      ]
     },
     "execution_count": 8,
     "metadata": {},
     "output_type": "execute_result"
    }
   ],
   "source": [
    "halfway = int(halfway)\n",
    "\n",
    "print(halfway)\n",
    "\n",
    "shopping_list[halfway]"
   ]
  },
  {
   "cell_type": "markdown",
   "metadata": {},
   "source": [
    "Using negative numbers, we can get entries counting from the end of a sequence rather than from the beginning. So entry `-1` is the last entry, `-2` is the second from last entry, and so on."
   ]
  },
  {
   "cell_type": "code",
   "execution_count": 9,
   "metadata": {},
   "outputs": [
    {
     "data": {
      "text/plain": [
       "'gravy mix'"
      ]
     },
     "execution_count": 9,
     "metadata": {},
     "output_type": "execute_result"
    }
   ],
   "source": [
    "shopping_list[-1]"
   ]
  },
  {
   "cell_type": "markdown",
   "metadata": {},
   "source": [
    "What if we use an index that goes beyond the length of the sequence? As with many such questions, the best response is to try it out and see. Then we will know what to look out for if we suspect we have made this mistake in one of our programs. The content of the error message is pretty clear:"
   ]
  },
  {
   "cell_type": "code",
   "execution_count": 10,
   "metadata": {
    "tags": [
     "raises-exception"
    ]
   },
   "outputs": [
    {
     "ename": "IndexError",
     "evalue": "list index out of range",
     "output_type": "error",
     "traceback": [
      "\u001b[0;31m---------------------------------------------------------------------------\u001b[0m",
      "\u001b[0;31mIndexError\u001b[0m                                Traceback (most recent call last)",
      "\u001b[0;32m<ipython-input-10-4a4ff19f7982>\u001b[0m in \u001b[0;36m<module>\u001b[0;34m()\u001b[0m\n\u001b[0;32m----> 1\u001b[0;31m \u001b[0mshopping_list\u001b[0m\u001b[0;34m[\u001b[0m\u001b[0;36m9000\u001b[0m\u001b[0;34m]\u001b[0m\u001b[0;34m\u001b[0m\u001b[0;34m\u001b[0m\u001b[0m\n\u001b[0m",
      "\u001b[0;31mIndexError\u001b[0m: list index out of range"
     ]
    }
   ],
   "source": [
    "shopping_list[9000]"
   ]
  },
  {
   "cell_type": "markdown",
   "metadata": {},
   "source": [
    "### Slicing\n",
    "\n",
    "We can also get multiple entries from a sequence. This is known as taking a '[slice](extras/glossary.md#slice)' of the sequence. We use the same square parentheses we always use for indexing, but this time they contain a range of indices, where the beginning and end of the range are separated by the colon character `:`.\n",
    "\n",
    "So to get entries `1` and `2` (in the zero-based numbering system):"
   ]
  },
  {
   "cell_type": "code",
   "execution_count": 11,
   "metadata": {},
   "outputs": [
    {
     "data": {
      "text/plain": [
       "['bacon', 'black pudding']"
      ]
     },
     "execution_count": 11,
     "metadata": {},
     "output_type": "execute_result"
    }
   ],
   "source": [
    "shopping_list[1:3]"
   ]
  },
  {
   "cell_type": "markdown",
   "metadata": {},
   "source": [
    "Wait a moment! You might have been expecting `[1:3]` to give you entries `1` to `3`, inclusive. If so, you are a normal, healthy person and your worldview is entirely valid. However, Python understands the end of a slice as meaning 'up-to-but-not-including'. So `[1:3]` means 'starting from `1` up to (but not including) `3`'.\n",
    "\n",
    "If you are still reeling from the shock of the zero-based numbering system, this new quirk may seem like a slap in the face with a wet kipper. However, there is a logic to it that you may eventually come to love, and that can be explained with the help of the fancy infographic below.\n",
    "\n",
    "![](images/slicing.png)\n",
    "\n",
    "The indices in Python's indexing system can be understood as referring to the 'dividing' tick marks on a ruler. Indices refer not to the items in a sequence themselves but to the 'boundaries' between the items. So when we ask for slice `[1:3]` we get the items between tick mark `1` and tick mark `3` on the ruler. As you can see in the image above, this gets us the second and third items.\n",
    "\n",
    "Single indices can be understood in a similar way. When we ask for item `0` in a sequence, we get the item that immediately *follows* that tick mark on the ruler, which is the first item. The second item comes after tick mark `1`, and so on. This is similar to the way that the floors of a building are numbered (at least in most countries). A floor is the part of the building immediately *above* the actual physical platform that divides the building into vertical sections. So the '1st floor' is the space above the first dividing platform. Below that is the 'ground floor', so called because it is located immediately above the ground. (We could also call the ground floor the '[zeroth](https://en.wikipedia.org/wiki/0th)' floor)."
   ]
  },
  {
   "cell_type": "code",
   "execution_count": 12,
   "metadata": {},
   "outputs": [
    {
     "data": {
      "text/plain": [
       "'1st'"
      ]
     },
     "execution_count": 12,
     "metadata": {},
     "output_type": "execute_result"
    }
   ],
   "source": [
    "floors = ['ground', '1st', '2nd', '3rd']\n",
    "\n",
    "floors[0:2]"
   ]
  },
  {
   "cell_type": "markdown",
   "metadata": {},
   "source": [
    "If the beginning of our desired slice is the beginning of the whole sequence, we can omit the beginning index before the colon. So `[:3]` means simply 'up to but not including `3`'."
   ]
  },
  {
   "cell_type": "code",
   "execution_count": 13,
   "metadata": {},
   "outputs": [
    {
     "data": {
      "text/plain": [
       "['eggs', 'bacon', 'black pudding']"
      ]
     },
     "execution_count": 13,
     "metadata": {},
     "output_type": "execute_result"
    }
   ],
   "source": [
    "shopping_list[:3]"
   ]
  },
  {
   "cell_type": "markdown",
   "metadata": {},
   "source": [
    "And similarly if the end of our desired slice is the end of the sequence."
   ]
  },
  {
   "cell_type": "code",
   "execution_count": 14,
   "metadata": {},
   "outputs": [
    {
     "data": {
      "text/plain": [
       "['sausages', 'bread', 'Mazola', 'gravy mix']"
      ]
     },
     "execution_count": 14,
     "metadata": {},
     "output_type": "execute_result"
    }
   ],
   "source": [
    "shopping_list[3:]"
   ]
  },
  {
   "cell_type": "markdown",
   "metadata": {},
   "source": [
    "Note that in the two last examples above, we were able to use the same index (`3`) both to end one slice and to begin another one, without the two slices 'overlapping' (i.e. both containing item `3`). This is one of the subtle advantages of Python's interpretation of indices as 'dividing lines'.\n",
    "\n",
    "### Comprehensions\n",
    "\n",
    "We have seen that the square parentheses can be used to create a list. The items in the list are separated by commas. Often, we will want to create a list without having to write out every individual item explicitly. If there is some regular pattern to the items in our desired list, we can generate them based on that pattern. For example, the pattern might be that the items in our desired list are all related to the items in another list in some consistent way.\n",
    "\n",
    "We might want to know the length of each item in our shopping list, and to store those lengths in a new list. One way to do this would be to apply the `len()` function to each item separately:"
   ]
  },
  {
   "cell_type": "code",
   "execution_count": 15,
   "metadata": {},
   "outputs": [],
   "source": [
    "item_lengths = [len(shopping_list[0]), len(shopping_list[1]), len(shopping_list[2])] # ... and so on"
   ]
  },
  {
   "cell_type": "markdown",
   "metadata": {},
   "source": [
    "But this quickly gets tedious (as you can see I couldn't even be bothered to finish the full example above). We are also liable to make small mistakes such as missing out one item or putting them in the wrong order. Python provides an alternative. Take a look at the command below:"
   ]
  },
  {
   "cell_type": "code",
   "execution_count": 16,
   "metadata": {},
   "outputs": [
    {
     "data": {
      "text/plain": [
       "[4, 5, 13, 8, 5, 6, 9]"
      ]
     },
     "execution_count": 16,
     "metadata": {},
     "output_type": "execute_result"
    }
   ],
   "source": [
    "item_lengths = [len(x) for x in shopping_list]\n",
    "\n",
    "item_lengths"
   ]
  },
  {
   "cell_type": "markdown",
   "metadata": {},
   "source": [
    "This way of constructing a list is known as a 'list [comprehension](extras/glossary.md#comprehension)'. Instead of writing out each item explicitly, we give a sort of 'formula' for creating the items. The basic [syntax](extras/glossary.md#syntax) for a list comprehension is as follows:\n",
    "\n",
    "* pick a variable name, any variable name (for example `x`)\n",
    "* write:\n",
    "  - `for`\n",
    "  - then your chosen variable name\n",
    "  - then `in`\n",
    "  - then the name of the existing list that your new list is based on (for example our `shopping_list`)\n",
    "* to the left of this, write your chosen variable name again\n",
    "* do to this variable whatever it is that creates an item in your new list (for example apply the `len()` function)\n",
    "* enclose the whole thing in square parentheses\n",
    "\n",
    "This sort of formula is almost human-readable, if you are a particular kind of human. Our example above says: 'For every item in the shopping list, give me the length of that item (and put all these lengths in a new list)'. We can (and should) make our programs a bit more human-readable by picking more descriptive variable names than `x`. For example:"
   ]
  },
  {
   "cell_type": "code",
   "execution_count": 17,
   "metadata": {},
   "outputs": [
    {
     "data": {
      "text/plain": [
       "[4, 5, 13, 8, 5, 6, 9]"
      ]
     },
     "execution_count": 17,
     "metadata": {},
     "output_type": "execute_result"
    }
   ],
   "source": [
    "item_lengths = [len(item) for item in shopping_list]\n",
    "\n",
    "item_lengths"
   ]
  },
  {
   "cell_type": "markdown",
   "metadata": {},
   "source": [
    "List comprehensions can be an extremely useful tool for manipulating data. So here is another example for you to check your comprehension of comprehensions:"
   ]
  },
  {
   "cell_type": "code",
   "execution_count": 18,
   "metadata": {},
   "outputs": [
    {
     "data": {
      "text/plain": [
       "['e', 'b', 'b', 's', 'b', 'M', 'g']"
      ]
     },
     "execution_count": 18,
     "metadata": {},
     "output_type": "execute_result"
    }
   ],
   "source": [
    "item_initials = [item[0] for item in shopping_list]\n",
    "\n",
    "item_initials"
   ]
  },
  {
   "cell_type": "markdown",
   "metadata": {},
   "source": [
    "Though we may choose the name of the variable in a list comprehension (for example `x` or `item`), the roles of the words `for` and `in` are fixed. These are [keywords](extras/glossary.md#keyword) for Python; each has a particular effect on the workings of our program, and we must use that specific word if we want that effect. We will learn more about keywords in later lessons.\n",
    "\n",
    "### Range\n",
    "\n",
    "Before we leave sequences behind, let's consider one more data type, a new one this time. Python provides a [built-in](extras/glossary.md#builtin) function `range()` that generates a sequence of integers over a given range. The two [arguments](extras/glossary.md#argument) to `range()` are the start and end of the desired sequence of integers.\n",
    "\n",
    "For example:"
   ]
  },
  {
   "cell_type": "code",
   "execution_count": 19,
   "metadata": {},
   "outputs": [],
   "source": [
    "ten_numbers = range(0, 10)"
   ]
  },
  {
   "cell_type": "markdown",
   "metadata": {},
   "source": [
    "Intuitively, we might expect the [return value](extras/glossary.md#return) of `range()` to be a tuple or list containing the requested integers. Unfortunately, it is instead yet another new [data type](extras/glossary.md#type), the `range` type."
   ]
  },
  {
   "cell_type": "code",
   "execution_count": 20,
   "metadata": {},
   "outputs": [
    {
     "data": {
      "text/plain": [
       "range"
      ]
     },
     "execution_count": 20,
     "metadata": {},
     "output_type": "execute_result"
    }
   ],
   "source": [
    "type(ten_numbers)"
   ]
  },
  {
   "cell_type": "markdown",
   "metadata": {},
   "source": [
    "We don't need to worry too much about this. Behind the scenes in the bowels of our computer, the `range` data type 'prepares' the requested integers for use, but it doesn't actually put them into a list or give us any of them until we ask it to do so.\n",
    "\n",
    "We can see this if we try to print out the range variable. We aren't shown all the integers. Instead, we just see that we have a 'range'."
   ]
  },
  {
   "cell_type": "code",
   "execution_count": 21,
   "metadata": {},
   "outputs": [
    {
     "name": "stdout",
     "output_type": "stream",
     "text": [
      "range(0, 10)\n"
     ]
    }
   ],
   "source": [
    "print(ten_numbers)"
   ]
  },
  {
   "cell_type": "markdown",
   "metadata": {},
   "source": [
    "We only get the integers once we request a specific one:"
   ]
  },
  {
   "cell_type": "code",
   "execution_count": 22,
   "metadata": {},
   "outputs": [
    {
     "data": {
      "text/plain": [
       "3"
      ]
     },
     "execution_count": 22,
     "metadata": {},
     "output_type": "execute_result"
    }
   ],
   "source": [
    "ten_numbers[3]"
   ]
  },
  {
   "cell_type": "markdown",
   "metadata": {},
   "source": [
    "Understanding the reason for this behavior takes us into some of the details of how computers work. When we create a list (or a tuple), it takes up some space in our computer's memory. Although a decent modern computer usually has squigabytes upon squigabytes of memory, the amount is still limited, and not all of that memory will be accessible for Python, as it will be in use by other programs (or by the many viruses that have infected your computer). So if we are working with an extremely large sequence of numbers, for example in a big data analysis, we might prefer to generate each of those numbers one by one, process them, then discard them, rather than first storing them all in memory.\n",
    "\n",
    "However, for small sequences, the behavior of `range()` can be a bit of an annoyance. We can demand the full list of integers by just converting a range into a list:"
   ]
  },
  {
   "cell_type": "code",
   "execution_count": 23,
   "metadata": {},
   "outputs": [
    {
     "name": "stdout",
     "output_type": "stream",
     "text": [
      "[0, 1, 2, 3, 4, 5, 6, 7, 8, 9]\n"
     ]
    }
   ],
   "source": [
    "ten_numbers = list(ten_numbers)\n",
    "\n",
    "ten_numbers"
   ]
  },
  {
   "cell_type": "markdown",
   "metadata": {},
   "source": [
    "Notice that the end of a range is interpreted in the same way as the end index of a slice, which we learned about above. `range(5, 10)` means 'the integers from `5` up to *but not including* `10`. Also like slices, we can omit the starting number if we want to start from `0`. So `range(10)` is a shorthand for `range(0, 10)`.\n",
    "\n",
    "Ranges are often useful for creating a new list that contains some mathematical sequence. For example we can get a list of square numbers by requesting '`x` squared' for every `x` in a range:"
   ]
  },
  {
   "cell_type": "code",
   "execution_count": 24,
   "metadata": {},
   "outputs": [
    {
     "data": {
      "text/plain": [
       "[1, 4, 9, 16, 25, 36, 49, 64, 81, 100]"
      ]
     },
     "execution_count": 24,
     "metadata": {},
     "output_type": "execute_result"
    }
   ],
   "source": [
    "squares = [x*x for x in range(1, 11)]\n",
    "\n",
    "squares"
   ]
  },
  {
   "cell_type": "markdown",
   "metadata": {},
   "source": [
    "#### Aside: Python 2\n",
    "\n",
    "Back in Python 2, the `range()` function did the more intuitive thing and just returned a full list of the requested integers. This was good for the simplicity and clarity of Python programs, but bad for efficient use of the computer's memory, so it was changed in Python 3."
   ]
  },
  {
   "cell_type": "markdown",
   "metadata": {},
   "source": [
    "## Mappings\n",
    "\n",
    "Consider the list below. It contains someone's name, age, and location."
   ]
  },
  {
   "cell_type": "code",
   "execution_count": 25,
   "metadata": {},
   "outputs": [],
   "source": [
    "info = ['Mildred Bonk', 22, 'USA']"
   ]
  },
  {
   "cell_type": "markdown",
   "metadata": {},
   "source": [
    "A list isn't such a great way of storing this information, for a few reasons.\n",
    "\n",
    "* The list mixes data types (strings and integers). Python allows this, but it usually isn't a good idea. We can make our programs clearer and less error-prone by storing only one type of data in each list we create.\n",
    "* The order of the items is somewhat arbitrary. It makes some sense to begin with the name, but there is no particular reason to have age before location or the other way around.\n",
    "* There is nothing in the list that tells us what each of the items refers to in the real world. We just have to remember that `info[0]` is the name, `info[1]` the age, and so on. For another programmer reading our work, `info[1]` could well be Mildred's shoe size instead.\n",
    "\n",
    "If we find ourselves wanting to gather together data of different types, and we would like each piece of data to have an informative name, then we need to move on from sequences. We need a 'mapping'.\n",
    "\n",
    "A mapping is"
   ]
  },
  {
   "cell_type": "markdown",
   "metadata": {},
   "source": [
    "## Choosing a data representation\n",
    "\n",
    "\n",
    "\n",
    "### List or tuple?\n",
    "\n",
    "Tuples are [immutable](extras/glossary.md#mutability). We can't change a tuple unless we overwrite it completely, which is the behavior we are used to from the basic data types such as [strings](extras/glossary.md#string) and numbers. Lists on the other hand are mutable. We can change single values in a list, and list [methods](extras/glossary.md#method) change the list without our having to re-[assign](extras/glossary.md#assignment) the result back into the list variable.\n",
    "\n",
    "For example:"
   ]
  },
  {
   "cell_type": "code",
   "execution_count": 26,
   "metadata": {},
   "outputs": [
    {
     "data": {
      "text/plain": [
       "['gravy mix', 'Mazola', 'bread', 'sausages', 'black pudding', 'bacon', 'eggs']"
      ]
     },
     "execution_count": 26,
     "metadata": {},
     "output_type": "execute_result"
    }
   ],
   "source": [
    "shopping_list.reverse()\n",
    "shopping_list"
   ]
  },
  {
   "cell_type": "markdown",
   "metadata": {},
   "source": [
    "### List or dictionary?"
   ]
  },
  {
   "cell_type": "markdown",
   "metadata": {},
   "source": [
    "### Nested data "
   ]
  },
  {
   "cell_type": "markdown",
   "metadata": {},
   "source": [
    "## Exercises"
   ]
  }
 ],
 "metadata": {
  "celltoolbar": "Tags",
  "kernelspec": {
   "display_name": "Python 3",
   "language": "python",
   "name": "python3"
  },
  "language_info": {
   "codemirror_mode": {
    "name": "ipython",
    "version": 3
   },
   "file_extension": ".py",
   "mimetype": "text/x-python",
   "name": "python",
   "nbconvert_exporter": "python",
   "pygments_lexer": "ipython3",
   "version": "3.6.8"
  }
 },
 "nbformat": 4,
 "nbformat_minor": 2
}
