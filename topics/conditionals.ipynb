{
 "cells": [
  {
   "cell_type": "markdown",
   "metadata": {},
   "source": [
    "# Conditionals\n",
    "\n",
    "We are already able to write programs that are somewhat interactive; we get the user to type something in and then we process whatever they typed in. The next level of excitement for our users is to interact with a program that does completely *different* things depending on what they type in.\n",
    "\n",
    "So far, the 'flow' of our programs has always been linear; they carry out a series of steps in order, with no variations. We would now like to give the flow of our programs a branching structure, such that we may vary which steps of our program are carried out when. This can be achieved with [control statements](extras/glossary.md#control): lines of our program that do not on their own produce any result, but instead control when (or how often, or in what variations) other lines are run.\n",
    "\n",
    "One of the simplest kinds of control statement is a 'conditional' control statement. It tells Python to run certain lines of our program only if a certain condition is fulfilled. This is what we will learn about now.\n",
    "\n",
    "## Objective\n",
    "\n",
    "To give ourselves something to work towards, let's imagine a fairly simple toy program that we would like to create.\n",
    "\n",
    "**hoff.py**:\n",
    "\n",
    "* Ask the user to enter their name and surname.\n",
    "* Find one interesting thing to say about their name:\n",
    "  * If they are called 'David Hasselhoff', ask \"Are you THE Hoff?\"\n",
    "    * If they say yes, say \"Wow!\"\n",
    "    * If they say no, say \"Well that is quite a coincidence that you have the same name as him.\"\n",
    "  * Otherwise if their surname is 'Hasselhoff', ask \"Any relation to David Hasselhoff?\"\n",
    "    * If they say yes, say \"Wow!\"\n",
    "    * If they say no, say \"You never know, you might be.\"\n",
    "  * Otherwise if their initials are 'DH', say \"You have the same initials as David Hasselhoff!\"\n",
    "  * Otherwise if their first name is a variant of 'David' such as 'Dave', 'Davy', 'Dafydd', say \"Well, your name is a bit like 'David', as in 'David Hasselhoff'.\"\n",
    "  * Otherwise, as a last resort, say \"Never mind, I suppose you could change it to something better, like 'David Hasselhoff'.\"\n",
    "\n",
    "The branching structure of our target program is moderately complex. We will build it up step by step, learning about the necessary programming techniques as we go.\n",
    "\n",
    "## Booleans\n",
    "\n",
    "We have already briefly met the [booleans](extras/glossary.md#boolean). Not Mrs. Boolean and her husband Julian, but the Python data [type](extras/glossary.md#type) that stores simply `True` or `False`. In order to be able to build conditions into our programs, we need first to learn a bit more about booleans and the logic that governs them.\n",
    "\n",
    "### Logic\n",
    "\n",
    "Certain statements in Python result in a boolean value. These are all 'logical' statements that ask a 'yes/no' question. The symbols used in them are mostly similar to mathematical notation:\n",
    "\n",
    "* `>` 'is greater than'\n",
    "* `<` 'is less than'\n",
    "* `>=` 'is greater than or equal to'\n",
    "* `<=` 'is less than or equal to'\n",
    "\n",
    "Python allows us to combine such symbols with variables and with literal numbers in much the same way as in math:"
   ]
  },
  {
   "cell_type": "code",
   "execution_count": 1,
   "metadata": {},
   "outputs": [
    {
     "data": {
      "text/plain": [
       "False"
      ]
     },
     "execution_count": 1,
     "metadata": {},
     "output_type": "execute_result"
    }
   ],
   "source": [
    "x = 2\n",
    "y = 3\n",
    "z = 7\n",
    "\n",
    "x > y"
   ]
  },
  {
   "cell_type": "code",
   "execution_count": 2,
   "metadata": {},
   "outputs": [
    {
     "data": {
      "text/plain": [
       "True"
      ]
     },
     "execution_count": 2,
     "metadata": {},
     "output_type": "execute_result"
    }
   ],
   "source": [
    "x >= 2"
   ]
  },
  {
   "cell_type": "code",
   "execution_count": 3,
   "metadata": {},
   "outputs": [
    {
     "data": {
      "text/plain": [
       "True"
      ]
     },
     "execution_count": 3,
     "metadata": {},
     "output_type": "execute_result"
    }
   ],
   "source": [
    "0 < x <= z"
   ]
  },
  {
   "cell_type": "markdown",
   "metadata": {},
   "source": [
    "What if we want to check whether two things are exactly equal? Here there is a small syntactical problem, because the equals symbol `=` is already in use for [assigning](extras/glossary.md#assignment) to a variable. Python therefore uses a double equals symbol `==` to mean 'is equal to' in the mathematical sense."
   ]
  },
  {
   "cell_type": "code",
   "execution_count": 4,
   "metadata": {},
   "outputs": [
    {
     "data": {
      "text/plain": [
       "False"
      ]
     },
     "execution_count": 4,
     "metadata": {},
     "output_type": "execute_result"
    }
   ],
   "source": [
    "x == y"
   ]
  },
  {
   "cell_type": "code",
   "execution_count": 5,
   "metadata": {},
   "outputs": [
    {
     "data": {
      "text/plain": [
       "True"
      ]
     },
     "execution_count": 5,
     "metadata": {},
     "output_type": "execute_result"
    }
   ],
   "source": [
    "x == 2"
   ]
  },
  {
   "cell_type": "markdown",
   "metadata": {},
   "source": [
    "`==` is also applicable to strings. As you might expect, it checks whether the contents of the two strings are exactly the same."
   ]
  },
  {
   "cell_type": "code",
   "execution_count": 6,
   "metadata": {},
   "outputs": [
    {
     "data": {
      "text/plain": [
       "True"
      ]
     },
     "execution_count": 6,
     "metadata": {},
     "output_type": "execute_result"
    }
   ],
   "source": [
    "name1 = 'David Hasselhoff'\n",
    "name2 = 'David Hasselhoff'\n",
    "\n",
    "name1 == name2"
   ]
  },
  {
   "cell_type": "markdown",
   "metadata": {},
   "source": [
    "Remember that lowercase and uppercase letters are not considered to be the same character, and that a space counts as a character."
   ]
  },
  {
   "cell_type": "code",
   "execution_count": 7,
   "metadata": {},
   "outputs": [
    {
     "data": {
      "text/plain": [
       "False"
      ]
     },
     "execution_count": 7,
     "metadata": {},
     "output_type": "execute_result"
    }
   ],
   "source": [
    "name1 == 'david hasselhoff'"
   ]
  },
  {
   "cell_type": "code",
   "execution_count": 8,
   "metadata": {},
   "outputs": [
    {
     "data": {
      "text/plain": [
       "False"
      ]
     },
     "execution_count": 8,
     "metadata": {},
     "output_type": "execute_result"
    }
   ],
   "source": [
    "name1 == 'David Hasselhoff '"
   ]
  },
  {
   "cell_type": "markdown",
   "metadata": {},
   "source": [
    "Finally, we may combine or negate logical statements using the Python [keywords](extras/glossary.md#keyword) `and`, `or`, and `not`."
   ]
  },
  {
   "cell_type": "code",
   "execution_count": 9,
   "metadata": {},
   "outputs": [
    {
     "data": {
      "text/plain": [
       "True"
      ]
     },
     "execution_count": 9,
     "metadata": {},
     "output_type": "execute_result"
    }
   ],
   "source": [
    "2 + 2 == 4 or 1 > 2"
   ]
  },
  {
   "cell_type": "code",
   "execution_count": 10,
   "metadata": {},
   "outputs": [
    {
     "data": {
      "text/plain": [
       "False"
      ]
     },
     "execution_count": 10,
     "metadata": {},
     "output_type": "execute_result"
    }
   ],
   "source": [
    "2 + 2 == 4 and 1 > 2"
   ]
  },
  {
   "cell_type": "code",
   "execution_count": 11,
   "metadata": {},
   "outputs": [
    {
     "data": {
      "text/plain": [
       "False"
      ]
     },
     "execution_count": 11,
     "metadata": {},
     "output_type": "execute_result"
    }
   ],
   "source": [
    "not 2 + 2 == 4"
   ]
  },
  {
   "cell_type": "markdown",
   "metadata": {},
   "source": [
    "As in math, parentheses are not always necessary, but they can help make our program clearer to read."
   ]
  },
  {
   "cell_type": "code",
   "execution_count": 12,
   "metadata": {},
   "outputs": [
    {
     "data": {
      "text/plain": [
       "True"
      ]
     },
     "execution_count": 12,
     "metadata": {},
     "output_type": "execute_result"
    }
   ],
   "source": [
    "(2 + 2 == 4) or (1 > 2)"
   ]
  },
  {
   "cell_type": "code",
   "execution_count": 13,
   "metadata": {},
   "outputs": [
    {
     "data": {
      "text/plain": [
       "False"
      ]
     },
     "execution_count": 13,
     "metadata": {},
     "output_type": "execute_result"
    }
   ],
   "source": [
    "not (2 + 2 == 4)"
   ]
  },
  {
   "cell_type": "markdown",
   "metadata": {},
   "source": [
    "### Conversion to boolean\n",
    "\n",
    "That covers the very basics of logical statements in Python. Before we see how to turn logical statements into conditions for carrying out a part of a our program, let's take a brief detour to consider a slight quirk in the way Python handles the boolean data type.\n",
    "\n",
    "We have learned that some data types can be converted into others, using [built-in](extras/glossary.md#builtin) functions that have the same names as the type we wish to convert to (for example `int()` for converting to integer, and `str()` for converting to string). Initially, it may seem strange to allow converting other types into booleans, since booleans are always just `True` or `False`. Is the integer `42` on its own 'true'? What about a string like `'JavaScript is a terrible programming language.'`? (Of course, some strings may contain true statements, but Python can't be expected to work this out.)\n",
    "\n",
    "Nonetheless, Python does allow us to convert other data types to boolean. How does it decide whether numbers or strings are 'true' or not? If you feel like a challenge, you might like to head to the Spyder console now and try converting a few strings and numbers to boolean (the type conversion function is `bool()`) to see whether you can discover the pattern.\n",
    "\n",
    "The answer follows after this block of text:"
   ]
  },
  {
   "cell_type": "code",
   "execution_count": 14,
   "metadata": {},
   "outputs": [
    {
     "name": "stdout",
     "output_type": "stream",
     "text": [
      "SPOILER ALERT SPOILER ALERT SPOILER ALERT SPOILER ALERT SPOILER ALERT SPOILER ALERT SPOILER ALERT SPOILER ALERT SPOILER ALERT SPOILER ALERT SPOILER ALERT SPOILER ALERT SPOILER ALERT SPOILER ALERT SPOILER ALERT SPOILER ALERT SPOILER ALERT SPOILER ALERT SPOILER ALERT SPOILER ALERT SPOILER ALERT SPOILER ALERT SPOILER ALERT SPOILER ALERT SPOILER ALERT SPOILER ALERT SPOILER ALERT SPOILER ALERT SPOILER ALERT SPOILER ALERT SPOILER ALERT SPOILER ALERT SPOILER ALERT SPOILER ALERT SPOILER ALERT SPOILER ALERT SPOILER ALERT SPOILER ALERT SPOILER ALERT SPOILER ALERT SPOILER ALERT SPOILER ALERT SPOILER ALERT SPOILER ALERT SPOILER ALERT SPOILER ALERT SPOILER ALERT SPOILER ALERT SPOILER ALERT SPOILER ALERT SPOILER ALERT SPOILER ALERT SPOILER ALERT SPOILER ALERT SPOILER ALERT SPOILER ALERT SPOILER ALERT SPOILER ALERT SPOILER ALERT SPOILER ALERT SPOILER ALERT SPOILER ALERT SPOILER ALERT SPOILER ALERT SPOILER ALERT SPOILER ALERT SPOILER ALERT SPOILER ALERT SPOILER ALERT SPOILER ALERT SPOILER ALERT SPOILER ALERT SPOILER ALERT SPOILER ALERT SPOILER ALERT SPOILER ALERT SPOILER ALERT SPOILER ALERT SPOILER ALERT SPOILER ALERT SPOILER ALERT SPOILER ALERT SPOILER ALERT SPOILER ALERT SPOILER ALERT SPOILER ALERT SPOILER ALERT SPOILER ALERT SPOILER ALERT SPOILER ALERT SPOILER ALERT SPOILER ALERT SPOILER ALERT SPOILER ALERT SPOILER ALERT SPOILER ALERT SPOILER ALERT SPOILER ALERT SPOILER ALERT SPOILER ALERT \n"
     ]
    }
   ],
   "source": [
    "print('SPOILER ALERT ' * 100)"
   ]
  },
  {
   "cell_type": "markdown",
   "metadata": {},
   "source": [
    "Let's try a string first:"
   ]
  },
  {
   "cell_type": "code",
   "execution_count": 15,
   "metadata": {},
   "outputs": [
    {
     "data": {
      "text/plain": [
       "True"
      ]
     },
     "execution_count": 15,
     "metadata": {},
     "output_type": "execute_result"
    }
   ],
   "source": [
    "bool('JavaScript is a terrible programming language.')"
   ]
  },
  {
   "cell_type": "code",
   "execution_count": 16,
   "metadata": {},
   "outputs": [
    {
     "name": "stdout",
     "output_type": "stream",
     "text": [
      "Object `strings` not found.\n"
     ]
    }
   ],
   "source": [
    "That seems like a sensible answer. But what about other strings?"
   ]
  },
  {
   "cell_type": "code",
   "execution_count": null,
   "metadata": {},
   "outputs": [],
   "source": [
    "That seems like a sensible answer. But what about other strings"
   ]
  },
  {
   "cell_type": "code",
   "execution_count": 17,
   "metadata": {},
   "outputs": [
    {
     "data": {
      "text/plain": [
       "True"
      ]
     },
     "execution_count": 17,
     "metadata": {},
     "output_type": "execute_result"
    }
   ],
   "source": [
    "bool('JavaScript is an excellent programming language.')"
   ]
  },
  {
   "cell_type": "markdown",
   "metadata": {},
   "source": [
    "No! That's not right.\n",
    "\n",
    "In fact, Python treats any string as `True`, with just one exception: an empty string with no characters in it at all:"
   ]
  },
  {
   "cell_type": "code",
   "execution_count": 18,
   "metadata": {},
   "outputs": [
    {
     "data": {
      "text/plain": [
       "False"
      ]
     },
     "execution_count": 18,
     "metadata": {},
     "output_type": "execute_result"
    }
   ],
   "source": [
    "bool('')"
   ]
  },
  {
   "cell_type": "markdown",
   "metadata": {},
   "source": [
    "This principle generalizes to the other data types. An empty list `[]`, for example, is treated as `False`, but a list that has any contents at all is treated as `True`."
   ]
  },
  {
   "cell_type": "code",
   "execution_count": 19,
   "metadata": {},
   "outputs": [
    {
     "data": {
      "text/plain": [
       "False"
      ]
     },
     "execution_count": 19,
     "metadata": {},
     "output_type": "execute_result"
    }
   ],
   "source": [
    "bool([])"
   ]
  },
  {
   "cell_type": "code",
   "execution_count": 20,
   "metadata": {},
   "outputs": [
    {
     "data": {
      "text/plain": [
       "True"
      ]
     },
     "execution_count": 20,
     "metadata": {},
     "output_type": "execute_result"
    }
   ],
   "source": [
    "bool(['eggs', 'bacon', 'black pudding'])"
   ]
  },
  {
   "cell_type": "markdown",
   "metadata": {},
   "source": [
    "For numbers, `0` is the only 'empty number', and all others are treated as `True`."
   ]
  },
  {
   "cell_type": "code",
   "execution_count": 21,
   "metadata": {},
   "outputs": [
    {
     "data": {
      "text/plain": [
       "False"
      ]
     },
     "execution_count": 21,
     "metadata": {},
     "output_type": "execute_result"
    }
   ],
   "source": [
    "bool(0)"
   ]
  },
  {
   "cell_type": "code",
   "execution_count": 22,
   "metadata": {},
   "outputs": [
    {
     "data": {
      "text/plain": [
       "True"
      ]
     },
     "execution_count": 22,
     "metadata": {},
     "output_type": "execute_result"
    }
   ],
   "source": [
    "bool(42)"
   ]
  },
  {
   "cell_type": "code",
   "execution_count": 23,
   "metadata": {},
   "outputs": [
    {
     "data": {
      "text/plain": [
       "True"
      ]
     },
     "execution_count": 23,
     "metadata": {},
     "output_type": "execute_result"
    }
   ],
   "source": [
    "bool(-1)"
   ]
  },
  {
   "cell_type": "markdown",
   "metadata": {},
   "source": [
    "That was a slightly weird aside. But this convention of treating non-empty things as being somehow 'true' is common to many programming languages. As we will see later, it is important to be aware of this behavior.\n",
    "\n",
    "## if\n",
    "\n",
    "Now that we know how to express conditions in Python, we just need to know how to apply them to certain commands, so that those commands are only carried out if the condition is true. The [keyword](extras/glossary.md#keyword) that we need for this is `if`, which has essentially the same meaning in Python as in English.\n",
    "\n",
    "This is how it is used, applied to the very first condition in our target program:"
   ]
  },
  {
   "cell_type": "code",
   "execution_count": 24,
   "metadata": {},
   "outputs": [
    {
     "name": "stdout",
     "output_type": "stream",
     "text": [
      "What is your name and surname? David Hasselhoff\n",
      "Are you THE Hoff?\n"
     ]
    }
   ],
   "source": [
    "user_name = input('What is your name and surname? ')\n",
    "\n",
    "if user_name == 'David Hasselhoff':\n",
    "    print('Are you THE Hoff?')"
   ]
  },
  {
   "cell_type": "markdown",
   "metadata": {},
   "source": [
    "Because the user entered the exact string `'David Hasselhoff'`, the condition following the `if` keyword [evaluated](extras/glossary.md#evaluate) to `True` and so the `print()` command just below it was executed.\n",
    "\n",
    "We should always test our conditions with both the positive and negative case to check that we have got them right. So let's try it again, this time entering a name that should not trigger the `print()` command:"
   ]
  },
  {
   "cell_type": "code",
   "execution_count": 25,
   "metadata": {},
   "outputs": [
    {
     "name": "stdout",
     "output_type": "stream",
     "text": [
      "What is your name and surname? Dave McHoff\n"
     ]
    }
   ],
   "source": [
    "user_name = input('What is your name and surname? ')\n",
    "\n",
    "if user_name == 'David Hasselhoff':\n",
    "    print('Are you THE Hoff?')"
   ]
  },
  {
   "cell_type": "markdown",
   "metadata": {},
   "source": [
    "Good. This time we did not see the printed output.\n",
    "\n",
    "So here is the general [syntax](extras/glossary.md#syntax) for an `if` statement:\n",
    "\n",
    "* write `if`\n",
    "* then write your condition\n",
    "  * this should be something that results in a boolean `True` or `False`\n",
    "* then write a colon `:`\n",
    "* underneath all this, write the command (or multiple commands) that should be executed if your condition is true\n",
    "  * these must be [indented](extras/glossary.md#indentation) (i.e. they should be preceded by spaces to move them rightwards)\n",
    "\n",
    "### Indentation\n",
    "\n",
    "That last rule is important. It is the indentation in our example above that marks the `print()` line as 'belonging to' the `if` statement. Let's see what happens if we forget the indentation:"
   ]
  },
  {
   "cell_type": "code",
   "execution_count": 26,
   "metadata": {
    "tags": [
     "raises-exception"
    ]
   },
   "outputs": [
    {
     "ename": "IndentationError",
     "evalue": "expected an indented block (<ipython-input-26-fdc1d519ea77>, line 4)",
     "output_type": "error",
     "traceback": [
      "\u001b[0;36m  File \u001b[0;32m\"<ipython-input-26-fdc1d519ea77>\"\u001b[0;36m, line \u001b[0;32m4\u001b[0m\n\u001b[0;31m    print('Are you THE Hoff?')\u001b[0m\n\u001b[0m        ^\u001b[0m\n\u001b[0;31mIndentationError\u001b[0m\u001b[0;31m:\u001b[0m expected an indented block\n"
     ]
    }
   ],
   "source": [
    "user_name = input('What is your name and surname? ')\n",
    "\n",
    "if user_name == 'David Hasselhoff':\n",
    "print('Are you THE Hoff?')"
   ]
  },
  {
   "cell_type": "markdown",
   "metadata": {},
   "source": [
    "The content of this error message is fairly clear: Python was expecting some indentation after the `if` statement.\n",
    "\n",
    "This use of indentation to mark lines of a program as belonging to a [control statement](extras/glossary.md#control) is specific to Python, and is not a feature of most other programming languages. It is one of Python's most controversial features, and also one of the most challenging for beginners to master.\n",
    "\n",
    "So let's look at a few more variants of the `if` statement above, to check your understanding of the role of indentation. First of all, an example with more than one indented line after the `if`:"
   ]
  },
  {
   "cell_type": "code",
   "execution_count": 27,
   "metadata": {},
   "outputs": [
    {
     "name": "stdout",
     "output_type": "stream",
     "text": [
      "What is your name and surname? David Hasselhoff\n",
      "Are you THE Hoff?\n",
      "The really real Hoff?\n"
     ]
    }
   ],
   "source": [
    "user_name = input('What is your name and surname? ')\n",
    "\n",
    "if user_name == 'David Hasselhoff':\n",
    "    print('Are you THE Hoff?')\n",
    "    print('The really real Hoff?')"
   ]
  },
  {
   "cell_type": "markdown",
   "metadata": {},
   "source": [
    "Because both of these lines are indented, they both belong to the `if` statement, and so will both be run if the condition is true.\n",
    "\n",
    "Where we have multiple indented lines that all belong together, they must all be indented to the same extent. Varying indentation doesn't just look untidy, it also prevents Python from interpreting our program correctly:"
   ]
  },
  {
   "cell_type": "code",
   "execution_count": 29,
   "metadata": {
    "tags": [
     "raises-exception"
    ]
   },
   "outputs": [
    {
     "ename": "IndentationError",
     "evalue": "unindent does not match any outer indentation level (<tokenize>, line 5)",
     "output_type": "error",
     "traceback": [
      "\u001b[0;36m  File \u001b[0;32m\"<tokenize>\"\u001b[0;36m, line \u001b[0;32m5\u001b[0m\n\u001b[0;31m    print('The really real Hoff?')\u001b[0m\n\u001b[0m    ^\u001b[0m\n\u001b[0;31mIndentationError\u001b[0m\u001b[0;31m:\u001b[0m unindent does not match any outer indentation level\n"
     ]
    }
   ],
   "source": [
    "user_name = input('What is your name and surname? ')\n",
    "\n",
    "if user_name == 'David Hasselhoff':\n",
    "    print('Are you THE Hoff?')\n",
    "   print('The really real Hoff?')"
   ]
  },
  {
   "cell_type": "markdown",
   "metadata": {},
   "source": [
    "Now consider what happens in the variation below:"
   ]
  },
  {
   "cell_type": "code",
   "execution_count": 30,
   "metadata": {},
   "outputs": [
    {
     "name": "stdout",
     "output_type": "stream",
     "text": [
      "What is your name and surname? Dave McHoff\n",
      "The really real Hoff?\n"
     ]
    }
   ],
   "source": [
    "user_name = input('What is your name and surname? ')\n",
    "\n",
    "if user_name == 'David Hasselhoff':\n",
    "    print('Are you THE Hoff?')\n",
    "print('The really real Hoff?')"
   ]
  },
  {
   "cell_type": "markdown",
   "metadata": {},
   "source": [
    "This one does not result in an error. It is [syntactically](extras/glossary.md#syntax) valid, but it does something a bit different from what we want.\n",
    "\n",
    "Notice that the user typed in a name that did not trigger the `if` condition. So the first `print()` line was not run. But the second `print()` line *was* run. This is because it was not indented. As we learned above, indentation tells Python which lines belong to a control statement. If a line is not indented, it is not influenced by the preceding control statement, and so is always run, just like any normal line of the program.\n",
    "\n",
    "The first 'unindented' line after a block of indented lines marks the end of a control statement's influence, and a return to the normal linear structure of a Python program, where every line is always run. It is a good idea to also place blank lines before and after a block of indented lines, to mark them out clearly from the rest of the program. For example:"
   ]
  },
  {
   "cell_type": "code",
   "execution_count": 31,
   "metadata": {},
   "outputs": [
    {
     "name": "stdout",
     "output_type": "stream",
     "text": [
      "What is your name and surname? Dave McHoff\n",
      "Thank you, and goodbye.\n"
     ]
    }
   ],
   "source": [
    "user_name = input('What is your name and surname? ')\n",
    "\n",
    "if user_name == 'David Hasselhoff':\n",
    "    print('Are you THE Hoff?')\n",
    "\n",
    "print('Thank you, and goodbye.')"
   ]
  },
  {
   "cell_type": "markdown",
   "metadata": {},
   "source": [
    "### Debugging\n",
    "\n",
    "If you are trying to write an `if` statement and you keep encountering [errors](extras/glossary.md#error), here are some of the most common mistakes to check for:\n",
    "\n",
    "* Have you forgotten the colon `:` at the end of the if statement?\n",
    "* Have you used `=` where you meant to use `==`?\n",
    "* Have you forgotten to indent, or indented inconsistently?\n",
    "\n",
    "We now have the main ingredient of our target program: conditional statements. Most of the rest of what we will learn in this lesson is elaborating on this basic ingredient.\n",
    "\n",
    "## if ... elif ... else\n",
    "\n",
    "The English-language description of our target program is structured as a series of conditions. The first begins with 'if', subsequent ones begin with 'otherwise if', and the last begins simply with 'otherwise'. That is, we want to keep checking a series of conditions until we find one that is true, and have a final 'last resort' condition that only applies if none of the others was true. This is fairly easy to put together, so long as we remember the basic syntax for a conditional statement. We just need to introduce new keywords.\n",
    "\n",
    "Python's equivalent to 'otherwise if' in English is `elif` (an abbreviation of 'else if'). `elif` checks a new condition but only if none of the preceding conditions was true.\n",
    "\n",
    "Python's equivalent to 'otherwise' in English is `else`. `else` does not require any condition, since it merely specifies what to do if none of the preceding conditions was true. But it does still require a colon."
   ]
  }
 ],
 "metadata": {
  "celltoolbar": "Tags",
  "kernelspec": {
   "display_name": "Python 3",
   "language": "python",
   "name": "python3"
  },
  "language_info": {
   "codemirror_mode": {
    "name": "ipython",
    "version": 3
   },
   "file_extension": ".py",
   "mimetype": "text/x-python",
   "name": "python",
   "nbconvert_exporter": "python",
   "pygments_lexer": "ipython3",
   "version": "3.6.8"
  }
 },
 "nbformat": 4,
 "nbformat_minor": 2
}
