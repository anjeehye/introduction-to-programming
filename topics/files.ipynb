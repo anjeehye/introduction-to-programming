{
 "cells": [
  {
   "cell_type": "markdown",
   "metadata": {
    "toc": true
   },
   "source": [
    "<h1>Contents<span class=\"tocSkip\"></span></h1>\n",
    "<div class=\"toc\"><ul class=\"toc-item\"><li><span><a href=\"#File-formats\" data-toc-modified-id=\"File-formats-1\">File formats</a></span><ul class=\"toc-item\"><li><span><a href=\"#Plain-text\" data-toc-modified-id=\"Plain-text-1.1\">Plain text</a></span><ul class=\"toc-item\"><li><span><a href=\"#Reading\" data-toc-modified-id=\"Reading-1.1.1\">Reading</a></span></li><li><span><a href=\"#Writing\" data-toc-modified-id=\"Writing-1.1.2\">Writing</a></span></li></ul></li></ul></li></ul></div>"
   ]
  },
  {
   "cell_type": "code",
   "execution_count": 1,
   "metadata": {
    "tags": [
     "remove-cell"
    ]
   },
   "outputs": [],
   "source": [
    "import os\n",
    "\n",
    "def cleanup():\n",
    "    try:\n",
    "        os.remove('my_new_file.txt')\n",
    "    except FileNotFoundError:\n",
    "        pass\n",
    "\n",
    "os.chdir('/home/lt/GitHub/introduction-to-programming/topics/examples')\n",
    "cleanup()"
   ]
  },
  {
   "cell_type": "markdown",
   "metadata": {},
   "source": [
    "# Files\n",
    "\n",
    "Thus far, our programs have interacted with the wider world only via the `input()` function, for getting information from a human being, and via the `print()` function, for displaying text results on the screen. By now you will probably be fairly tired of this pattern. Maybe more than once you have run your program, then forgotten that it requires you to type some input into the console, and so spent several minutes idly wondering why nothing is happening. Or you have repeatedly hit the wrong keys on your keyboard by accident and been treated to some infuriating error messages. So you will be glad to hear that we are (mostly) going to leave the `input()` function behind from now on. We have really mainly been using `input()` as a crutch, a simple form of interactivity to get us started with programming. Most real programs don't use `input()` at all, or only sparingly. Instead, they have other methods for getting hold of external data. The first of these methods that we will learn about is reading in data from a file stored on our computer. We will also learn a bit about how to write the results of our programs into new files.\n",
    "\n",
    "## File formats\n",
    "\n",
    "There are lots of different file formats, each of which stores information in different ways. For example, Microsoft Word *docx* files store text along with various additional pieces of information about how that text is to be displayed, *jpg* image files store information about the colors of the pixels of an image, and some files, such as *exe* files, store entire programs in a form that it is not feasible for a human being to read and interpret. When working with files, we will need to be aware of the nature of the particular file format we are dealing with, and instruct Python to read, or write, it appropriately.\n",
    "\n",
    "### Plain text\n",
    "\n",
    "Let's start with a file format that is fairly easy to deal with: plain text. Plain text files just store text characters (although as we will see, there are some subtleties to consider even here). We can open plain text files and view their contents in a normal text editor.\n",
    "\n",
    "If you want to follow along with the examples in this lesson, make sure you have first downloaded the [example programs and data files](examples/data/intro_prog_examples.zip) for the class and that you have unzipped this file in your working directory so that 'data' is a subdirectory of your working directory. Like this:\n",
    "\n",
    "![](images/data_subdirectory.png)\n",
    "\n",
    "Now find the example text file [melville-moby_dick.txt](examples/data/melville-moby_dick.txt). The *txt* extension indicates that this file should contain plain text. It contains the full text of the novel *Moby Dick* by Herman Melville.\n",
    "\n",
    "(Note that one of the many profoundly stupid default options in Windows is that file extensions such as *.py*, *.txt*, etc. are not displayed, so the file may appear only as *melville-moby_dick* in your file explorer, but its name is still *melville-moby_dick.txt*, and this is how Python and other programs will want you to refer to it. See [here](https://fileinfo.com/help/windows_10_show_file_extensions) for how to change this option if you would prefer to be able to see file extensions.)\n",
    "\n",
    "You can open a plain text file in your preferred text editor. Since the editor in Spyder is just a fancy text editor, you can open it there if you like. This might even be the most convenient way to view it, since you will have it open just next to the Spyder console and will be able to see its contents as you try out the example commands below for opening and reading the file.\n",
    "\n",
    "#### Reading\n",
    "\n",
    "Let's now open the file from within a Python program. There is a [built-in](extras/glossary.md#builtin) function for this, called simply `open()`. The input argument is a string containing the [path](extras/glossary.md#path) to the file we want to open. If the file is located in the same directory as our program, then the path is simply the name of the file. But in this case, the file is located in a directory called 'data', so we need to put this together with the file name to build the full path (Take a look back at the use of `os.path` [in the previous lesson](standard_library.ipynb#Paths) if you need to remind yourself how this works).\n",
    "\n",
    "We should [assign](extras/glossary.md#assignment) the result of calling the `open()` function into a new variable, so that we can then work with it in the rest of our program. If we are working with just a single file, `f` is a convenient choice of variable name. We will use that. But note that if we were working with multiple files it would be better for the clarity of our program if we chose a variable name that says something about which particular file we have opened."
   ]
  },
  {
   "cell_type": "code",
   "execution_count": 2,
   "metadata": {},
   "outputs": [
    {
     "name": "stdout",
     "output_type": "stream",
     "text": [
      "data/melville-moby_dick.txt\n"
     ]
    }
   ],
   "source": [
    "import os\n",
    "\n",
    "filepath = os.path.join('data', 'melville-moby_dick.txt')\n",
    "print(filepath)"
   ]
  },
  {
   "cell_type": "code",
   "execution_count": 3,
   "metadata": {},
   "outputs": [],
   "source": [
    "f = open(filepath)"
   ]
  },
  {
   "cell_type": "markdown",
   "metadata": {},
   "source": [
    "Note that if `open()` cannot find the requested file, it [raises](extras/glossary.md#raise) a `FileNotFoundError`, which looks like this:"
   ]
  },
  {
   "cell_type": "code",
   "execution_count": 4,
   "metadata": {
    "tags": [
     "raises-exception"
    ]
   },
   "outputs": [
    {
     "ename": "FileNotFoundError",
     "evalue": "[Errno 2] No such file or directory: 'nonexistent_file.txt'",
     "output_type": "error",
     "traceback": [
      "\u001b[0;31m---------------------------------------------------------------------------\u001b[0m",
      "\u001b[0;31mFileNotFoundError\u001b[0m                         Traceback (most recent call last)",
      "\u001b[0;32m<ipython-input-4-cc7db0881b62>\u001b[0m in \u001b[0;36m<module>\u001b[0;34m\u001b[0m\n\u001b[0;32m----> 1\u001b[0;31m \u001b[0mopen\u001b[0m\u001b[0;34m(\u001b[0m\u001b[0;34m'nonexistent_file.txt'\u001b[0m\u001b[0;34m)\u001b[0m\u001b[0;34m\u001b[0m\u001b[0;34m\u001b[0m\u001b[0m\n\u001b[0m",
      "\u001b[0;31mFileNotFoundError\u001b[0m: [Errno 2] No such file or directory: 'nonexistent_file.txt'"
     ]
    }
   ],
   "source": [
    "open('nonexistent_file.txt')"
   ]
  },
  {
   "cell_type": "markdown",
   "metadata": {},
   "source": [
    "If you see this error message, check the following:\n",
    "\n",
    "* Did you first follow the steps for downloading the file?\n",
    "* Have you got the name of the file right?\n",
    "* Is the file in a subdirectory called 'data'?\n",
    "* Is the 'data' subdirectory in your current working directory? (Try `os.getcwd()` at the Spyder console to see the path to your current working directory.)\n",
    "* Did you use `os.path.join()` correctly? (Check the output of `print(filepath)` after the `os.path.join()` command above.)\n",
    "\n",
    "So what [type](extras/glossary.md#type) does the `open()` function [return](extras/glossary.md#return)?"
   ]
  },
  {
   "cell_type": "code",
   "execution_count": 5,
   "metadata": {},
   "outputs": [
    {
     "data": {
      "text/plain": [
       "_io.TextIOWrapper"
      ]
     },
     "execution_count": 5,
     "metadata": {},
     "output_type": "execute_result"
    }
   ],
   "source": [
    "type(f)"
   ]
  },
  {
   "cell_type": "markdown",
   "metadata": {},
   "source": [
    "If you were hoping it would just be a [string](extras/glossary.md#string) containing the contents of the file, you will be disappointed. As is sometimes the case, an intermediate step lies between us and our seemingly simple goal. First we open the file, *then* we read in its contents.\n",
    "\n",
    "`type()` tells us that `open()` has [returned](extras/glossary.md#return) a `TextIOWrapper`. The 'IO' part stands for [Input/Output](extras/glossary.md#IO). This abbreviation is used quite broadly in computing to refer to any process that involves getting or sending information from or to some resource that is external to the computer program, such as a human being, the internet, or a file. This is a data type specifically for connecting to text files, then reading from and writing to them.\n",
    "\n",
    "This entity (which we have now stored in our `f` variable) is more commonly and more simply referred to as a 'file object'. A file object has [methods](extras/glossary.md#method) for reading and writing, as we can see if we apply the `dir()` function:"
   ]
  },
  {
   "cell_type": "code",
   "execution_count": 6,
   "metadata": {},
   "outputs": [
    {
     "data": {
      "text/plain": [
       "['_CHUNK_SIZE',\n",
       " '__class__',\n",
       " '__del__',\n",
       " '__delattr__',\n",
       " '__dict__',\n",
       " '__dir__',\n",
       " '__doc__',\n",
       " '__enter__',\n",
       " '__eq__',\n",
       " '__exit__',\n",
       " '__format__',\n",
       " '__ge__',\n",
       " '__getattribute__',\n",
       " '__getstate__',\n",
       " '__gt__',\n",
       " '__hash__',\n",
       " '__init__',\n",
       " '__init_subclass__',\n",
       " '__iter__',\n",
       " '__le__',\n",
       " '__lt__',\n",
       " '__ne__',\n",
       " '__new__',\n",
       " '__next__',\n",
       " '__reduce__',\n",
       " '__reduce_ex__',\n",
       " '__repr__',\n",
       " '__setattr__',\n",
       " '__sizeof__',\n",
       " '__str__',\n",
       " '__subclasshook__',\n",
       " '_checkClosed',\n",
       " '_checkReadable',\n",
       " '_checkSeekable',\n",
       " '_checkWritable',\n",
       " '_finalizing',\n",
       " 'buffer',\n",
       " 'close',\n",
       " 'closed',\n",
       " 'detach',\n",
       " 'encoding',\n",
       " 'errors',\n",
       " 'fileno',\n",
       " 'flush',\n",
       " 'isatty',\n",
       " 'line_buffering',\n",
       " 'mode',\n",
       " 'name',\n",
       " 'newlines',\n",
       " 'read',\n",
       " 'readable',\n",
       " 'readline',\n",
       " 'readlines',\n",
       " 'seek',\n",
       " 'seekable',\n",
       " 'tell',\n",
       " 'truncate',\n",
       " 'writable',\n",
       " 'write',\n",
       " 'writelines']"
      ]
     },
     "execution_count": 6,
     "metadata": {},
     "output_type": "execute_result"
    }
   ],
   "source": [
    "dir(f)"
   ]
  },
  {
   "cell_type": "markdown",
   "metadata": {},
   "source": [
    "The `read()` method returns the contents of the text file as a string (remember [how to use methods](types.ipynb#Methods))."
   ]
  },
  {
   "cell_type": "code",
   "execution_count": 7,
   "metadata": {},
   "outputs": [
    {
     "data": {
      "text/plain": [
       "str"
      ]
     },
     "execution_count": 7,
     "metadata": {},
     "output_type": "execute_result"
    }
   ],
   "source": [
    "text = f.read()\n",
    "\n",
    "type(text)"
   ]
  },
  {
   "cell_type": "markdown",
   "metadata": {},
   "source": [
    "Famously, the opening line of *Moby Dick* is 'Call me Ishmael.' But as we can see from printing out the first few hundred characters, this isn't quite true:"
   ]
  },
  {
   "cell_type": "code",
   "execution_count": 8,
   "metadata": {},
   "outputs": [
    {
     "name": "stdout",
     "output_type": "stream",
     "text": [
      "[Moby Dick by Herman Melville 1851]\n",
      "\n",
      "\n",
      "ETYMOLOGY.\n",
      "\n",
      "(Supplied by a Late Consumptive Usher to a Grammar School)\n",
      "\n",
      "The pale Usher--threadbare in coat, heart, body, and brain; I see him\n",
      "now.  He was ever dusting his old lexicons and grammars, with a queer\n",
      "handkerchief, mockingly embellished with all the gay flags of all the\n",
      "known nations of the world.  He loved to dust his old grammars; it\n",
      "somehow mildly reminded him of his mortality.\n",
      "\n"
     ]
    }
   ],
   "source": [
    "print(text[:433])"
   ]
  },
  {
   "cell_type": "markdown",
   "metadata": {},
   "source": [
    "Chapter 1 of the novel proper does begin with the famous opener, but it is preceded by a preamble in which two other narrators, the 'pale Usher' and the 'sub-librarian' discuss the etymology of the word 'whale' and various extracts from other books on the subject of whales. This piece of trivia, along with your Python programming skills, is something that you can seriously impress your friends and colleagues with.\n",
    "\n",
    "So, now that we have the string text of the novel, we can do all the various things that we know how to do with strings, such as count the number of words, count the occurrences of a particular word, and so on. For example:"
   ]
  },
  {
   "cell_type": "code",
   "execution_count": 9,
   "metadata": {},
   "outputs": [
    {
     "name": "stdout",
     "output_type": "stream",
     "text": [
      "1685\n"
     ]
    }
   ],
   "source": [
    "target_word = 'whale'\n",
    "n_occurrences = text.lower().count(target_word)\n",
    "\n",
    "print(n_occurrences)"
   ]
  },
  {
   "cell_type": "markdown",
   "metadata": {},
   "source": [
    "If you are unable to rein in your excitement at this point, take a moment to go to the Spyder console and try out lots of fun things with the text of *Moby Dick* until you have calmed down. Processing and analyzing natural language texts is the topic of a future lesson; for now we will stick to the technical drudgery of handling files.\n",
    "\n",
    "The first question we may reasonably ask is: Why did we have to first use a function to open the file and get a 'file object', and only then read in the contents of the file? If the only thing we want to do with the file is to read in its entire contents, then the intermediate step is superfluous, and we can simplify our program a little by applying the `read()` method directly to the result of [calling](extras/glossary.md#call) the `open()` function.\n",
    "\n",
    "The syntax for this perhaps looks a little strange, but has its logic:"
   ]
  },
  {
   "cell_type": "code",
   "execution_count": 10,
   "metadata": {},
   "outputs": [],
   "source": [
    "text = open(filepath).read()"
   ]
  },
  {
   "cell_type": "markdown",
   "metadata": {},
   "source": [
    "When all we want to do is to read in the entire contents of a text file, we can stick to this one-liner combination of `open()` and `read()`.\n",
    "\n",
    "When would we not want to read in the entire contents of the file? One such situation is if we want to search in the file until we find something that we are looking for, and then stop. For example, imagine that we want to find the first line in *Moby Dick* that contains the word 'whale'.\n",
    "\n",
    "One way to do this would be to just read in the entire file and then search in the resulting string. We could for example split the entire string into lines, go through them in a [loop](extras/glossary.md#loop), then `break` out of the loop when we find a line containing `'whale'`. Like this:"
   ]
  },
  {
   "cell_type": "code",
   "execution_count": 11,
   "metadata": {},
   "outputs": [
    {
     "name": "stdout",
     "output_type": "stream",
     "text": [
      "The first line containing 'whale' is: [...] name a whale-fish is to be called in our tongue leaving out, through\n"
     ]
    }
   ],
   "source": [
    "lines = text.split('\\n')\n",
    "\n",
    "for line in lines:\n",
    "    if target_word in line.lower():\n",
    "        break\n",
    "\n",
    "msg = \"The first line containing '{}' is: [...] {}\"\n",
    "print(msg.format(target_word, line))"
   ]
  },
  {
   "cell_type": "markdown",
   "metadata": {},
   "source": [
    "(If you are wondering about `split('\\n')`, here we are overriding the default value of the [argument](extras/glossary.md#argument) to the `split()` method. The default is to split at every space `' '`, but we want to split at every [newline character](extras/glossary.md#newline). We encountered the newline character briefly [in the lesson on functions](functions.ipynb#Keyword-arguments) when we looked at the `end` argument to the `print()` function.)\n",
    "\n",
    "But another way to do this would be to read in the contents of the file line-by-line, then stop reading when we find the line we are searching for. File objects are [iterable](extras/glossary.md#iterable). If we loop through a file object, each run of the loop gives us the next line from the file. (Take a look back at the [lesson on iteration](iteration.ipynb#Iterables) if you need to remind yourself about iterable types.)\n",
    "\n",
    "So we could also find the first line containing `'whale'` like this:"
   ]
  },
  {
   "cell_type": "code",
   "execution_count": 12,
   "metadata": {},
   "outputs": [
    {
     "name": "stdout",
     "output_type": "stream",
     "text": [
      "The first line containing 'whale' is: [...] name a whale-fish is to be called in our tongue leaving out, through\n",
      "\n"
     ]
    }
   ],
   "source": [
    "f = open(filepath)\n",
    "\n",
    "for line in f:\n",
    "    if target_word in line.lower():\n",
    "        break\n",
    "\n",
    "print(msg.format(target_word, line))"
   ]
  },
  {
   "cell_type": "markdown",
   "metadata": {},
   "source": [
    "Whether we first read in the entire file and then search in its contents, or whether we read the file line-by-line, the result is the same. The difference behind the scenes is that the former method loads the entire contents of the file into our computer's temporary memory, whereas the second method only ever holds one line in memory at any one time, and therefore uses less of the computer's memory. In almost all cases, this difference will not be important, but here are some instances in which it might matter:\n",
    "\n",
    "* The file we are reading is absolutely colossal (multiple squigabytes) and wouldn't all fit in our computer's temporary memory at once. In this case we have no choice but to read it in parts.\n",
    "* The file is still very large (a squigabyte or two), so although it can be read in its entirety, the process of doing so slows down our program unacceptably. In this case, reading line-by-line may be faster if the line we are searching for could occur near the beginning of the file.\n",
    "* We intend our program to be run on a system with very limited memory, such as a miniature device.\n",
    "\n",
    "#### Writing\n",
    "\n",
    "Next we might ask: Can we write new text to the file? After all, when we `dir()` the file object, we see a `write()` method.\n",
    "\n",
    "Let's just try it. What's the worst that could happen (other than accidentally overwriting the entire file and having to download it again)?"
   ]
  },
  {
   "cell_type": "code",
   "execution_count": 13,
   "metadata": {
    "tags": [
     "raises-exception"
    ]
   },
   "outputs": [
    {
     "ename": "UnsupportedOperation",
     "evalue": "not writable",
     "output_type": "error",
     "traceback": [
      "\u001b[0;31m---------------------------------------------------------------------------\u001b[0m",
      "\u001b[0;31mUnsupportedOperation\u001b[0m                      Traceback (most recent call last)",
      "\u001b[0;32m<ipython-input-13-d3350b3ebd2d>\u001b[0m in \u001b[0;36m<module>\u001b[0;34m\u001b[0m\n\u001b[1;32m      1\u001b[0m \u001b[0mf\u001b[0m \u001b[0;34m=\u001b[0m \u001b[0mopen\u001b[0m\u001b[0;34m(\u001b[0m\u001b[0mfilepath\u001b[0m\u001b[0;34m)\u001b[0m\u001b[0;34m\u001b[0m\u001b[0;34m\u001b[0m\u001b[0m\n\u001b[1;32m      2\u001b[0m \u001b[0;34m\u001b[0m\u001b[0m\n\u001b[0;32m----> 3\u001b[0;31m \u001b[0mf\u001b[0m\u001b[0;34m.\u001b[0m\u001b[0mwrite\u001b[0m\u001b[0;34m(\u001b[0m\u001b[0;34m'And then I woke up and it was all a dream.'\u001b[0m\u001b[0;34m)\u001b[0m\u001b[0;34m\u001b[0m\u001b[0;34m\u001b[0m\u001b[0m\n\u001b[0m",
      "\u001b[0;31mUnsupportedOperation\u001b[0m: not writable"
     ]
    }
   ],
   "source": [
    "f = open(filepath)\n",
    "\n",
    "f.write('And then I woke up and it was all a dream.')"
   ]
  },
  {
   "cell_type": "markdown",
   "metadata": {},
   "source": [
    "We see an error message informing us that our file is not writable. This is in fact fortunate here, as otherwise the result of the `write()` command above would have been to overwrite the entire contents of the file.\n",
    "\n",
    "There is an additional [keyword argument](functions.ipynb#Keyword-arguments) to `open()` called `mode`, which specifies what 'mode' we want to open the file in. You can see a list of the possible modes at the [Python documentation page for `open()`](https://docs.python.org/3/library/functions.html#open), and you will also see there what the default value of `mode` is.\n",
    "\n",
    "Above, we used `open()` without specifying anything for `mode`, so the default value was applied, and the default value happens to be `'r'`, meaning 'read only'. If we instead ask for `'w'` mode, we get a writable file object. We won't do this for the *Moby Dick* file, since we don't want to overwrite it. Instead, we will create our own new file and write some text into it. For example:"
   ]
  },
  {
   "cell_type": "code",
   "execution_count": 14,
   "metadata": {},
   "outputs": [
    {
     "data": {
      "text/plain": [
       "64"
      ]
     },
     "execution_count": 14,
     "metadata": {},
     "output_type": "execute_result"
    }
   ],
   "source": [
    "f = open('my_new_file.txt', mode='w')\n",
    "\n",
    "f.write('Writing your first text file is a truly exhilarating experience.')"
   ]
  },
  {
   "cell_type": "markdown",
   "metadata": {},
   "source": [
    "If you enter the two commands above into the Spyder console and then you go and look at your working directory, you should see that the new file has appeared there.\n",
    "\n",
    "However, if you click on the new file to open it in a text editor, you might not see the text that you wrote with the `write()` method. Depending on some behind-the-scenes details that may occasionally vary, Python does not necessarily write to a file immediately. Writing data to the computer's permanent memory is by computer standards a slow operation, and can be done more efficiently by waiting until there is plenty to write, then writing everything in one go. So Python waits until we write a lot of data or until we definitely stop writing.\n",
    "\n",
    "We can signal that we have finished writing by closing the file with the `close()` method."
   ]
  },
  {
   "cell_type": "code",
   "execution_count": 15,
   "metadata": {},
   "outputs": [],
   "source": [
    "f.close()"
   ]
  },
  {
   "cell_type": "markdown",
   "metadata": {},
   "source": [
    "Now you should be able to open the file in a text editor and see the finished result of any `write()` commands that you have run.\n",
    "\n"
   ]
  },
  {
   "cell_type": "code",
   "execution_count": 16,
   "metadata": {
    "tags": [
     "remove-cell"
    ]
   },
   "outputs": [],
   "source": [
    "cleanup()\n",
    "\n",
    "os.chdir('/home/lt/GitHub/introduction-to-programming/topics')"
   ]
  }
 ],
 "metadata": {
  "celltoolbar": "Tags",
  "kernelspec": {
   "display_name": "Python 3",
   "language": "python",
   "name": "python3"
  },
  "language_info": {
   "codemirror_mode": {
    "name": "ipython",
    "version": 3
   },
   "file_extension": ".py",
   "mimetype": "text/x-python",
   "name": "python",
   "nbconvert_exporter": "python",
   "pygments_lexer": "ipython3",
   "version": "3.6.8"
  },
  "toc": {
   "base_numbering": 1,
   "nav_menu": {},
   "number_sections": false,
   "sideBar": true,
   "skip_h1_title": true,
   "title_cell": "Contents",
   "title_sidebar": "Contents",
   "toc_cell": true,
   "toc_position": {},
   "toc_section_display": true,
   "toc_window_display": false
  }
 },
 "nbformat": 4,
 "nbformat_minor": 2
}
