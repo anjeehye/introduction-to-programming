{
 "cells": [
  {
   "cell_type": "markdown",
   "metadata": {
    "toc": true
   },
   "source": [
    "<h1>Contents<span class=\"tocSkip\"></span></h1>\n",
    "<div class=\"toc\"><ul class=\"toc-item\"></ul></div>"
   ]
  },
  {
   "cell_type": "markdown",
   "metadata": {},
   "source": [
    "# Psychopy\n",
    "\n",
    "Psychopy is an additional package for Python that allows you to write programs that control the screen, keyboard, mouse, etc. in order to gather psychophysical data from users/subjects. You can read more about it at the [Psychopy website](https://www.psychopy.org).\n",
    "\n",
    "Because Psychopy needs to take some control over your computer's hardware, it is slightly more difficult to install. There are a few steps. For each step, follow the instructions for your operating system.\n",
    "\n",
    "## Virtual environment\n",
    "\n",
    "Psychopy has some special requirements and installing it might mess with the configuration of other installed Python packages. To avoid this problem, you can install Psychopy into its own 'virtual environment'. A virtual environment is a separate Python setup that stores its own configuration and versions of packages. If we keep Psychopy in its own environment rather than in the main environment that you use for other Python tasks, we can minimize the risk that it may break other programs.\n",
    "\n",
    "### Windows or macOS\n",
    "\n",
    "You should first have installed Anaconda as described in the [general installation notes](install.ipynb).\n",
    "\n",
    "Now you need to find out which directory on your computer Anaconda starts in by default. To do this, search for an application called 'Anaconda Prompt'. The command prompt that appears should show which directory you are in. For example, you might see something like:\n",
    "\n",
    "```\n",
    "(base) C:\\Users\\mildred>\n",
    "```\n",
    "\n",
    "In this case, `C:\\Users\\mildred` is the directory that Anaconda starts in. If you don't see anything like this, or if you are not sure which directory this points to, you can try typing in a command that will display the name of the directory. On **Windows** type `cd`, and on **macOS** type `pwd`. You should then see the name of a directory printed out. Make a note of it and then go find it in your file explorer.\n",
    "\n",
    "The makers of Psychopy provide a file that Anaconda can use to create the necessary environment for Psychopy to run in. Download the file (called *psychopy-env-yaml* from [this link](https://raw.githubusercontent.com/psychopy/psychopy/master/conda/psychopy-env.yml) and make sure you download it into the directory that you saw in the Anaconda Prompt above.\n",
    "\n",
    "Now return to the Anaconda Prompt and enter the following command (as described on the [Psychopy website](https://www.psychopy.org/download.html#anaconda-and-miniconda):\n",
    "\n",
    "```\n",
    "conda env create -n psychopy -f psychopy-env.yml\n",
    "```\n",
    "\n",
    "This will create the necessary virtual environment.\n",
    "\n",
    "### Linux\n",
    "\n",
    "You will need first to install a Python program for creating virtual environments. It is called *virtualenv* and you can get it via your normal package manager. Make sure that you get the Python 3 version. Assuming you are on Ubuntu, the following command will install it:\n",
    "\n",
    "```shell\n",
    "sudo apt-get install python3-virtualenv\n",
    "```\n",
    "\n"
   ]
  },
  {
   "cell_type": "code",
   "execution_count": null,
   "metadata": {},
   "outputs": [],
   "source": []
  }
 ],
 "metadata": {
  "kernelspec": {
   "display_name": "Python 3",
   "language": "python",
   "name": "python3"
  },
  "language_info": {
   "codemirror_mode": {
    "name": "ipython",
    "version": 3
   },
   "file_extension": ".py",
   "mimetype": "text/x-python",
   "name": "python",
   "nbconvert_exporter": "python",
   "pygments_lexer": "ipython3",
   "version": "3.6.9"
  },
  "toc": {
   "base_numbering": 1,
   "nav_menu": {},
   "number_sections": false,
   "sideBar": true,
   "skip_h1_title": true,
   "title_cell": "Contents",
   "title_sidebar": "Contents",
   "toc_cell": true,
   "toc_position": {},
   "toc_section_display": true,
   "toc_window_display": false
  }
 },
 "nbformat": 4,
 "nbformat_minor": 4
}
