{
 "cells": [
  {
   "cell_type": "markdown",
   "metadata": {
    "toc": true
   },
   "source": [
    "<h1>Contents<span class=\"tocSkip\"></span></h1>\n",
    "<div class=\"toc\"><ul class=\"toc-item\"><li><span><a href=\"#Installation\" data-toc-modified-id=\"Installation-1\">Installation</a></span><ul class=\"toc-item\"><li><span><a href=\"#macOS\" data-toc-modified-id=\"macOS-1.1\">macOS</a></span></li><li><span><a href=\"#Windows\" data-toc-modified-id=\"Windows-1.2\">Windows</a></span></li><li><span><a href=\"#Linux\" data-toc-modified-id=\"Linux-1.3\">Linux</a></span></li></ul></li><li><span><a href=\"#Test\" data-toc-modified-id=\"Test-2\">Test</a></span></li></ul></div>"
   ]
  },
  {
   "cell_type": "markdown",
   "metadata": {},
   "source": [
    "# Psychopy\n",
    "\n",
    "Psychopy is an additional package for Python that allows you to write programs that control the screen, keyboard, mouse, etc. in order to gather psychophysical data from users/subjects. You can read more about it at the [Psychopy website](https://www.psychopy.org).\n",
    "\n",
    "## Installation\n",
    "\n",
    "Because Psychopy needs to take some control over your computer's hardware, it is slightly more difficult to install. Because of Psychopy's special requirements, installing it can occasionally mess with the configuration of other installed Python packages. To avoid this problem, you can install Psychopy into its own 'virtual environment'. A virtual environment is a separate Python setup that stores its own configuration and versions of packages. If we install Psychopy into its own environment rather than in the main environment that you use for other Python tasks, we can minimize the risk that it may break other programs.\n",
    "\n",
    "Follow the instructions for your operating system.\n",
    "\n",
    "### macOS\n",
    "\n",
    "Search for an application called the 'Terminal'. This is a command line where you can type in commands for your computer's operating system.\n",
    "\n",
    "You will need first a piece of software called 'command line tools' for mac. You might already have it, as it is used by various other programs that you might have installed already. You can check by entering the following command in the terminal:\n",
    "\n",
    "```\n",
    "xcode-select --install\n",
    "```\n",
    "\n",
    "If you see a message telling you that this is already installed, then you are ready to move on. Otherwise, your computer will offer to install the command line tools. Answer 'yes' or 'ok' to any windows that pop up offering to install software.\n",
    "\n",
    "Now follow the same instructions as for **Windows** below.\n",
    "\n",
    "### Windows\n",
    "\n",
    "It is probably a good idea to first close any open instances of the Anaconda Navigator or Spyder. The Anaconda Navigator will probably only recognize the changes you are about to make after it has been closed and then restarted. Now search for an application called 'Anaconda Prompt' (or if you are coming here from the **macOS** instructions above, continue in the 'Terminal' application).\n",
    "\n",
    "The steps below involve typing text commands into the command prompt. When you type the commands in the instructions below, beware that the command prompt is not particularly forgiving. If something is slightly mistyped, the prompt may tell you that a command is not found, or syntax is not correct. Check things carefully if you encounter error messages. This includes the distinction between lowercase and UPPERCASE and the accidental placement of a space in front of the command if you copy and paste it.\n",
    "\n",
    "First you need to find out which directory on your computer you are working in. The command prompt should show which directory you are in. For example, you might see something like:\n",
    "\n",
    "```\n",
    "(base) C:\\Users\\mildred>\n",
    "```\n",
    "\n",
    "In this case, `C:\\Users\\mildred` is the directory that you are in. If you don't see anything like this, or if you are not sure which directory this points to, you can try typing in a command that will display the name of the directory. If you are on **Windows**, type `cd`. If you are on **macOS**, type `pwd`. You should then see the name of a directory printed out. Make a note of it and then go find it in your file explorer.\n",
    "\n",
    "The makers of Psychopy provide a file that Anaconda can use to create the necessary environment for Psychopy to run in. Download the file (called *psychopy-env.yaml* from [this link](https://raw.githubusercontent.com/psychopy/psychopy/master/conda/psychopy-env.yml) and make sure you download it into the directory that you saw displayed in the Anaconda Prompt above.\n",
    "\n",
    "Now return to the command prompt and enter the following command (as described on the [Psychopy website](https://www.psychopy.org/download.html#anaconda-and-miniconda)):\n",
    "\n",
    "```\n",
    "conda env create -n psy -f psychopy-env.yml\n",
    "```\n",
    "\n",
    "This will create the necessary virtual environment under the name 'psy'. Now enter the following command:\n",
    "\n",
    "```\n",
    "conda activate psy\n",
    "```\n",
    "\n",
    "This 'activates' the new environment, so that any subsequent commands that you enter will take effect for this environment only. You should see that the prompt is now prefaced with the name of the 'psy' environment. Something like this:\n",
    "\n",
    "```\n",
    "(psy) C:\\Users\\mildred>\n",
    "```\n",
    "\n",
    "In order to be able to use Spyder to write Python programs in this new environment, you should also install Spyder into the 'psy' environment. Enter the following command, and it will be installed into this environment:\n",
    "\n",
    "```\n",
    "conda install spyder\n",
    "```\n",
    "\n",
    "When the installation has finished, you have finished setting up the environment and you can close the command prompt window.\n",
    "\n",
    "You will now have two environments in your Anaconda installation. One is called 'base', which is the default environment that was already created when you installed Anaconda. The other is called 'psy', and is the one in which you just installed Psychopy. When you want to write Python programs that use Psychopy, instead of launching Spyder directly, first launch an application called 'Anaconda Navigator'. This is the main graphical interface to Anaconda. At the top of the 'Home' tab, you should see a drop-down selection menu titled 'Applications on:' This menu allows you to switch between virtual environments. To switch into the new virtual environment, select 'psy' from this drop-down menu. The Anaconda Navigator may take a moment to switch environments. Once it has done so and you see 'psy' selected, find Spyder among the applications listed there, and click on 'Launch' to launch Spyder in the 'psy' environment.\n",
    "\n",
    "### Linux\n",
    "\n",
    "You will need first to install a Python program for creating virtual environments. It is called 'virtualenv' and you can get it via your normal package manager. Make sure that you get the Python 3 version. Assuming you are on Ubuntu, the following command in the terminal will install it:\n",
    "\n",
    "```shell\n",
    "sudo apt-get install python3-virtualenv\n",
    "```\n",
    "\n",
    "Once you have installed virtualenv, you can use it as a command in the terminal to create virtual environments. First use `cd` to navigate into the directory where you would like to store your virtual environment (or just open the terminal there by right-clicking on the directory in the file explorer and selecting 'Open in Terminal'). Then enter the following command to create a virtual environment in which to install Psychopy:\n",
    "\n",
    "```shell\n",
    "virtualenv --python /usr/bin/python3 psy\n",
    "```\n",
    "\n",
    "The `--python` option with the path to the Python 3 interpreter `/usr/bin/python3` ensures that the environment will be a Python 3 environment and not Python 2. And 'psy' is the name of the environment.\n",
    "\n",
    "(Note that it is generally not a good idea to call your virtual environment by the same name as a Python package, as Python may then try to import the contents of the virtual environment whenever you instruct it to import the package with the same name. This is why you should opt for a name other than 'psychopy' for your virtual environment.)\n",
    "\n",
    "Still in the terminal, enter the following command to activate the virtual environment:\n",
    "\n",
    "```shell\n",
    "source psy/bin/activate\n",
    "```\n",
    "\n",
    "This runs a short file in the virtual environment directory that makes subsequent commands in that terminal session take effect in that environment only.\n",
    "\n",
    "Now use the Python package manager program (pip) to install Psychopy. If you want to write your Psychopy programs using Spyder, you should also install Spyder into the new environment:\n",
    "\n",
    "```shell\n",
    "pip install psychopy spyder\n",
    "```\n",
    "\n",
    "Finally, to launch Spyder in the new environment, just enter the following command:\n",
    "\n",
    "```shell\n",
    "spyder3\n",
    "```\n",
    "\n",
    "To quit the virtual environment, you can just close the terminal window. Whenever you want to write Python programs that make use of Psychopy, just open the terminal in the directory where you created the virtual environment and enter the command to activate it, followed by the command to launch Spyder:\n",
    "\n",
    "```shell\n",
    "source psy/bin/activate\n",
    "spyder3\n",
    "```\n",
    "\n",
    "The directory 'psy' that contains the files for the virtual environment is a directory like any other. If you ever want to delete your virtual environment, just delete the 'psy' directory. And if you want to move it somewhere else in your file system, just move the 'psy' directory.\n",
    "\n",
    "Some more information about virtual environments is provided at the [Hitchhiker's Guide to Python](https://docs.python-guide.org/dev/virtualenvs/#basic-usage).\n",
    "\n",
    "## Test\n",
    "\n",
    "Once you have followed the instructions above for your operating system and you have launched Spyder in the 'psy' environment, you can check whether Psychopy works correctly. Try some Psychopy commands in the Spyder console.\n",
    "\n",
    "First try importing its main modules:"
   ]
  },
  {
   "cell_type": "code",
   "execution_count": 1,
   "metadata": {},
   "outputs": [],
   "source": [
    "from psychopy import visual, core, event"
   ]
  },
  {
   "cell_type": "markdown",
   "metadata": {},
   "source": [
    "If you do not see a `ModuleNotFoundError`, then Psychopy has at least been installed and can be imported. You might see a few warning messages, the exact content of which will depend on your computer, but these do not necessarily indicate a problem.\n",
    "\n",
    "Now you can try to open a new window on your screen using Psychopy. The `Window()` function from the `visual` module does this. It is very important to make sure that you assign the result into a variable, as it is via this variable that you will be able to continue doing things with the window. If you open a window but do not assign it into a variable, you have no way of continuing to interact with the window from Python, and you might not even be able to close it."
   ]
  },
  {
   "cell_type": "code",
   "execution_count": 2,
   "metadata": {},
   "outputs": [],
   "source": [
    "win = visual.Window()"
   ]
  },
  {
   "cell_type": "markdown",
   "metadata": {},
   "source": [
    "You should see a new small blank window appear.\n",
    "\n",
    "Finally, you can try drawing some text in the window. Try the following two commands:"
   ]
  },
  {
   "cell_type": "code",
   "execution_count": 3,
   "metadata": {},
   "outputs": [
    {
     "data": {
      "text/plain": [
       "1.4448274319984193"
      ]
     },
     "execution_count": 3,
     "metadata": {},
     "output_type": "execute_result"
    }
   ],
   "source": [
    "visual.TextStim(win).draw()\n",
    "win.flip()"
   ]
  },
  {
   "cell_type": "markdown",
   "metadata": {},
   "source": [
    "You will see a number output from the second command. How these two commands work and what this number means will be explained when we come to learn about Psychopy. For now, just try the commands out. You should see some text drawn into the window as a result.\n",
    "\n",
    "Finally, to close the window, don't try to close it by clicking its close button as you would for a normal window. This usually won't work. Instead, close it from the Spyder console by calling the `close()` method."
   ]
  },
  {
   "cell_type": "code",
   "execution_count": 4,
   "metadata": {},
   "outputs": [
    {
     "name": "stdout",
     "output_type": "stream",
     "text": [
      "1.0530 \tWARNING \tMonitor specification not found. Creating a temporary one...\n"
     ]
    }
   ],
   "source": [
    "win.close()"
   ]
  },
  {
   "cell_type": "markdown",
   "metadata": {},
   "source": [
    "The window should now have disappeared. You might again see a short warning message like the one above. This is not important.\n",
    "\n",
    "If all of that worked out, then Psychopy is installed correctly and its most important features are working."
   ]
  }
 ],
 "metadata": {
  "kernelspec": {
   "display_name": "Python 3",
   "language": "python",
   "name": "python3"
  },
  "language_info": {
   "codemirror_mode": {
    "name": "ipython",
    "version": 3
   },
   "file_extension": ".py",
   "mimetype": "text/x-python",
   "name": "python",
   "nbconvert_exporter": "python",
   "pygments_lexer": "ipython3",
   "version": "3.6.9"
  },
  "toc": {
   "base_numbering": 1,
   "nav_menu": {},
   "number_sections": false,
   "sideBar": true,
   "skip_h1_title": true,
   "title_cell": "Contents",
   "title_sidebar": "Contents",
   "toc_cell": true,
   "toc_position": {},
   "toc_section_display": true,
   "toc_window_display": false
  }
 },
 "nbformat": 4,
 "nbformat_minor": 4
}
